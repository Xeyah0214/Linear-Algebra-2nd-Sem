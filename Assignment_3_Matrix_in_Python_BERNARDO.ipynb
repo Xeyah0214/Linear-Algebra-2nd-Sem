{
  "nbformat": 4,
  "nbformat_minor": 0,
  "metadata": {
    "colab": {
      "name": "Assignment 3 - Matrix in Python_BERNARDO.ipynb",
      "provenance": [],
      "collapsed_sections": [],
      "authorship_tag": "ABX9TyNwzrzzFbAzjCJwUKC7XdJa",
      "include_colab_link": true
    },
    "kernelspec": {
      "name": "python3",
      "display_name": "Python 3"
    },
    "language_info": {
      "name": "python"
    }
  },
  "cells": [
    {
      "cell_type": "markdown",
      "metadata": {
        "id": "view-in-github",
        "colab_type": "text"
      },
      "source": [
        "<a href=\"https://colab.research.google.com/github/Xeyah0214/Linear-Algebra-2nd-Sem/blob/main/Assignment_3_Matrix_in_Python_BERNARDO.ipynb\" target=\"_parent\"><img src=\"https://colab.research.google.com/assets/colab-badge.svg\" alt=\"Open In Colab\"/></a>"
      ]
    },
    {
      "cell_type": "markdown",
      "source": [
        "#Linear Algebra for ChE\n",
        "## Laboratory 2 : Matrices\n",
        "\n",
        "Now that you have a fundamental knowledge about Python, we'll try to look into greater dimensions."
      ],
      "metadata": {
        "id": "96noLgHHxn1o"
      }
    },
    {
      "cell_type": "markdown",
      "source": [
        "#Objectives\n",
        "At the end of this activity, you will be able to:\n",
        "1. Be familiar with matrices and their relation to linear equations.\n",
        "2. Perform basic matric operations\n",
        "3. Program and transate matrix equations and operations using Python."
      ],
      "metadata": {
        "id": "8Fx63MmJx0gK"
      }
    },
    {
      "cell_type": "markdown",
      "source": [
        "#Discussion"
      ],
      "metadata": {
        "id": "YjtW1vtiyJSn"
      }
    },
    {
      "cell_type": "code",
      "source": [
        "import numpy as np\n",
        "import matplotlib.pyplot as plt\n",
        "import scipy.linalg as la\n",
        "%matplotlib inline"
      ],
      "metadata": {
        "id": "VYXYs3VtyLXN"
      },
      "execution_count": null,
      "outputs": []
    },
    {
      "cell_type": "markdown",
      "source": [
        "##Matrices\n",
        "A matrix is defined as a rectangular array of numbers, symbols, or expressions that are arranged in rows and columns inside a bracket. It is commonly used in programming to store or display data in a structured format. By storing values in a matrix, a program can access and perform operations on the data more efficiently. \n",
        "\n",
        "Let's say for example you have A and B as system of equation."
      ],
      "metadata": {
        "id": "TSMW6CExzIDU"
      }
    },
    {
      "cell_type": "markdown",
      "source": [
        "$$\n",
        "A = \\left\\{\n",
        "    \\begin{array}\\\n",
        "        x + y \\\\ \n",
        "        4x - 10y\n",
        "    \\end{array}\n",
        "\\right. \\\\\n",
        "B = \\left\\{\n",
        "    \\begin{array}\\\n",
        "        x+y+z \\\\ \n",
        "        3x -2y -z \\\\\n",
        "        -x + 4y +2z\n",
        "    \\end{array}\n",
        "\\right. \\\\\n",
        "C = \\left\\{\n",
        "    \\begin{array}\\\n",
        "        w-2x+3y-4z \\\\ \n",
        "        3w-x -2y +z \\\\\n",
        "        2w-x + 3y -2z\n",
        "    \\end{array}\n",
        "\\right. $$"
      ],
      "metadata": {
        "id": "OV5kyd3Szy1d"
      }
    },
    {
      "cell_type": "markdown",
      "source": [
        "We could see that A is a system of 2 equations with 2 parameters. While B isa a system of 3 equations with 3 parameters. We can represent them as matrices as:"
      ],
      "metadata": {
        "id": "ufYrZprI1KBr"
      }
    },
    {
      "cell_type": "markdown",
      "source": [
        ":$$\n",
        "A=\\begin{bmatrix} 1 & 1 \\\\ 4 & {-10}\\end{bmatrix} \\\\\n",
        "B=\\begin{bmatrix} 1 & 1 & 1 \\\\ 3 & -2 & -1 \\\\ -1 & 4 & 2\\end{bmatrix}\\\\\n",
        "C=\\begin{bmatrix} 1 & -2 & 3 & -4 \\\\ 3 & -1 & -2 & 1\\\\ 2 & -1 & 3 & -2\\end{bmatrix}\n",
        "$$\n"
      ],
      "metadata": {
        "id": "QayemU011bDk"
      }
    },
    {
      "cell_type": "markdown",
      "source": [
        "Just like our previous laboratory activity, we'll represent system of lienar equations as a matrix. The entities or numbers in matrices are called the elements of a matrix. These elements are arranged and ordered in rows and columns which form the list/array-like structures of matrices. And just like arrays, these elements are indezed according their position with respect to their rows and columns. This can be represented just like the equation below. Whereas A is a matrix consisting of elements denoted by aij. Denoted by i is the number of rows in the matrix while j stands for the numner of columns.\n",
        "Do note that the size of a matrix is i x j."
      ],
      "metadata": {
        "id": "T53e4tPI3PAG"
      }
    },
    {
      "cell_type": "markdown",
      "source": [
        "$$A=\\begin{bmatrix}\n",
        "a_{(0,0)}&a_{(0,1)}&\\dots&a_{(0,j-1)}\\\\\n",
        "a_{(1,0)}&a_{(1,1)}&\\dots&a_{(1,j-1)}\\\\\n",
        "\\vdots&\\vdots&\\ddots&\\vdots&\\\\\n",
        "a_{(i-1,0)}&a_{(i-1,1)}&\\dots&a_{(i-1,j-1)}\n",
        "\\end{bmatrix}\n",
        "$$\n"
      ],
      "metadata": {
        "id": "s5Os7dMG3zSa"
      }
    },
    {
      "cell_type": "markdown",
      "source": [
        "We already gone over some of the types of matrices as vectors byt we'll further discuss them in this laboratory activity."
      ],
      "metadata": {
        "id": "CAlksrv130fq"
      }
    },
    {
      "cell_type": "code",
      "source": [
        "##Since we'll keep on describing matrices, Let's make a function. \n",
        "def describe_mat(matrix):\n",
        "  print (f'Matrix:\\n{matrix}\\n\\nShape:\\t{matrix.shape}\\nRank:\\t{matrix.ndim}\\n')"
      ],
      "metadata": {
        "id": "-IIw0iN335BZ"
      },
      "execution_count": null,
      "outputs": []
    },
    {
      "cell_type": "code",
      "source": [
        "##Declaring a 2 x 2 matrix\n",
        "A = np.array([\n",
        "    [1, 2],\n",
        "    [3, 1]\n",
        "])\n",
        "describe_mat(A)"
      ],
      "metadata": {
        "colab": {
          "base_uri": "https://localhost:8080/"
        },
        "id": "Cfq-DIvy4VTs",
        "outputId": "9119de6e-a8f3-488f-c159-33a108be2179"
      },
      "execution_count": null,
      "outputs": [
        {
          "output_type": "stream",
          "name": "stdout",
          "text": [
            "Matrix:\n",
            "[[1 2]\n",
            " [3 1]]\n",
            "\n",
            "Shape:\t(2, 2)\n",
            "Rank:\t2\n",
            "\n"
          ]
        }
      ]
    },
    {
      "cell_type": "code",
      "source": [
        "##Declaring a 3 x 2 matrix\n",
        "M = np.array([\n",
        "    [6, 2],\n",
        "    [1, 4],\n",
        "    [5, 7]\n",
        "])\n",
        "describe_mat(M)\n",
        "     "
      ],
      "metadata": {
        "colab": {
          "base_uri": "https://localhost:8080/"
        },
        "id": "Q10gmh-B6MEd",
        "outputId": "146606ee-fdd7-4b51-ecd8-324fcb0eb0a4"
      },
      "execution_count": null,
      "outputs": [
        {
          "output_type": "stream",
          "name": "stdout",
          "text": [
            "Matrix:\n",
            "[[6 2]\n",
            " [1 4]\n",
            " [5 7]]\n",
            "\n",
            "Shape:\t(3, 2)\n",
            "Rank:\t2\n",
            "\n"
          ]
        }
      ]
    },
    {
      "cell_type": "markdown",
      "source": [
        "#Categorizing Matrices\n",
        "Matrices come in a variety of shapes and elemental values due to the diverse arrangements of values inside its elements and dimensions. With this, they can be divided into the following categories:"
      ],
      "metadata": {
        "id": "ukdg_0dq7Rx-"
      }
    },
    {
      "cell_type": "code",
      "source": [
        "## Declaring a Row Matrix\n",
        "\n",
        "row_mat_1D = np.array([\n",
        "    26, 4, 19\n",
        "]) ## this is a 1-D Matrix with a shape of (1, 3), it's not really considered as a row matrix.\n",
        "row_mat_2D = np.array([\n",
        "    [11 ,23 ,64, -9]\n",
        "]) ## this is a 2-D Matrix with a shape of (1, 4)\n",
        "describe_mat(row_mat_1D)\n",
        "describe_mat(row_mat_2D)"
      ],
      "metadata": {
        "colab": {
          "base_uri": "https://localhost:8080/"
        },
        "id": "cLhwQLjH7l0F",
        "outputId": "3ec13c2f-82fd-468f-eae1-c1deaf7fb1da"
      },
      "execution_count": null,
      "outputs": [
        {
          "output_type": "stream",
          "name": "stdout",
          "text": [
            "Matrix:\n",
            "[26  4 19]\n",
            "\n",
            "Shape:\t(3,)\n",
            "Rank:\t1\n",
            "\n",
            "Matrix:\n",
            "[[11 23 64 -9]]\n",
            "\n",
            "Shape:\t(1, 4)\n",
            "Rank:\t2\n",
            "\n"
          ]
        }
      ]
    },
    {
      "cell_type": "code",
      "source": [
        "## Declaring a Column Matrix\n",
        "\n",
        "col_mat = np.array([\n",
        "    [14],\n",
        "    [12],\n",
        "    [25]\n",
        "]) ##this is a 2-D Matrix with a shape of (3,1)\n",
        "describe_mat(col_mat)"
      ],
      "metadata": {
        "colab": {
          "base_uri": "https://localhost:8080/"
        },
        "id": "nK8dYvBl9VPP",
        "outputId": "9ed7a085-9c51-489c-b22b-0ec917a6bc51"
      },
      "execution_count": null,
      "outputs": [
        {
          "output_type": "stream",
          "name": "stdout",
          "text": [
            "Matrix:\n",
            "[[14]\n",
            " [12]\n",
            " [25]]\n",
            "\n",
            "Shape:\t(3, 1)\n",
            "Rank:\t2\n",
            "\n"
          ]
        }
      ]
    },
    {
      "cell_type": "markdown",
      "source": [
        "###Square Matrices\n",
        "Square matrices are defined with the same number of rows and columns. If i = j, we can say that a matrix is square. To find square matrices, we can modify our matrix descriptor function."
      ],
      "metadata": {
        "id": "x4uFcxzP96u9"
      }
    },
    {
      "cell_type": "code",
      "source": [
        "def describe_mat(matrix):\n",
        "  is_square = True if matrix.shape[0] == matrix.shape[1] else False\n",
        "  print(f'Matrix:\\n{matrix}\\n\\nShape:\\t{matrix.shape}\\nRank:\\t{matrix.ndim}\\nIs Square: {is_square}\\n')"
      ],
      "metadata": {
        "id": "sd3evtCh-Ftu"
      },
      "execution_count": null,
      "outputs": []
    },
    {
      "cell_type": "code",
      "source": [
        "square_mat = np.array([\n",
        "  [12, 24, 15],\n",
        "  [33, 17, 84],\n",
        "  [60, 14, 21]\n",
        "])\n",
        "non_square_mat = np.array([\n",
        "  [12, 24, 15],\n",
        "  [33, 17, 84]\n",
        "])\n",
        "describe_mat(square_mat)\n",
        "describe_mat(non_square_mat)"
      ],
      "metadata": {
        "colab": {
          "base_uri": "https://localhost:8080/"
        },
        "id": "4rFH6oya-tC_",
        "outputId": "358d05dc-f304-4c7b-fa92-6ab0369abd1e"
      },
      "execution_count": null,
      "outputs": [
        {
          "output_type": "stream",
          "name": "stdout",
          "text": [
            "Matrix:\n",
            "[[12 24 15]\n",
            " [33 17 84]\n",
            " [60 14 21]]\n",
            "\n",
            "Shape:\t(3, 3)\n",
            "Rank:\t2\n",
            "Is Square: True\n",
            "\n",
            "Matrix:\n",
            "[[12 24 15]\n",
            " [33 17 84]]\n",
            "\n",
            "Shape:\t(2, 3)\n",
            "Rank:\t2\n",
            "Is Square: False\n",
            "\n"
          ]
        }
      ]
    },
    {
      "cell_type": "markdown",
      "source": [
        "##According to element values"
      ],
      "metadata": {
        "id": "zdorAyi7BDAL"
      }
    },
    {
      "cell_type": "markdown",
      "source": [
        "###Null Matrix\n",
        "A Null Matrix is a matrix that has no elements. Its always a subspace of any vector or matrix"
      ],
      "metadata": {
        "id": "pgXLOKgXBGat"
      }
    },
    {
      "cell_type": "code",
      "source": [
        "def describe_mat(matrix):\n",
        "  if matrix.size > 0:\n",
        "    is_square = True if matrix.shape[0] == matrix.shape[1] else False\n",
        "    print(f'Matrix:\\n{matrix}\\n\\nShape:\\t{matrix.shape}\\nRank:\\t{matrix.ndim}\\nIs Square: {is_square}\\n')\n",
        "  else:\n",
        "    print('Matrix is Null')"
      ],
      "metadata": {
        "id": "IwF9aOfdBPzv"
      },
      "execution_count": null,
      "outputs": []
    },
    {
      "cell_type": "code",
      "source": [
        "null_mat = np.array([])\n",
        "describe_mat(null_mat)"
      ],
      "metadata": {
        "colab": {
          "base_uri": "https://localhost:8080/"
        },
        "id": "DaDa6_ezBnJU",
        "outputId": "0e437cf2-e669-4fa2-add2-f9992aae936e"
      },
      "execution_count": null,
      "outputs": [
        {
          "output_type": "stream",
          "name": "stdout",
          "text": [
            "Matrix is Null\n"
          ]
        }
      ]
    },
    {
      "cell_type": "markdown",
      "source": [
        "###Zero Matrix\n",
        "In mathematics, particularly linear algebra and so as in Python programming, a zero matrix is a matrix all of whose entries are valued zero. "
      ],
      "metadata": {
        "id": "ksW9wsQWCTL1"
      }
    },
    {
      "cell_type": "code",
      "source": [
        "zero_mat_row = np.zeros((1,2))\n",
        "zero_mat_sqr = np.zeros((2,2))\n",
        "zero_mat_rct = np.zeros((3,2))\n",
        "\n",
        "print(f'Zero Row Matrix: \\n{zero_mat_row}')\n",
        "print(f'Zero Square Matrix: \\n{zero_mat_sqr}')\n",
        "print(f'Zero Rectangular Matrix: \\n{zero_mat_rct}')"
      ],
      "metadata": {
        "colab": {
          "base_uri": "https://localhost:8080/"
        },
        "id": "I5iQTmgDCYTD",
        "outputId": "cddc1e2b-5dde-42e6-b408-8013dcfbc79d"
      },
      "execution_count": null,
      "outputs": [
        {
          "output_type": "stream",
          "name": "stdout",
          "text": [
            "Zero Row Matrix: \n",
            "[[0. 0.]]\n",
            "Zero Square Matrix: \n",
            "[[0. 0.]\n",
            " [0. 0.]]\n",
            "Zero Rectangular Matrix: \n",
            "[[0. 0.]\n",
            " [0. 0.]\n",
            " [0. 0.]]\n"
          ]
        }
      ]
    },
    {
      "cell_type": "markdown",
      "source": [
        "###Ones Matrix\n",
        "A matrix of ones or all-ones matrix is a matrix where every element is equal to one. Similarly to zero matrix; however, the element values would always be ones. "
      ],
      "metadata": {
        "id": "uyjlyiDADHc7"
      }
    },
    {
      "cell_type": "code",
      "source": [
        "ones_mat_row = np.ones((1,2))\n",
        "ones_mat_sqr = np.ones((2,2))\n",
        "ones_mat_rct = np.ones((3,2))\n",
        "\n",
        "print(f'Ones Row Matrix: \\n{ones_mat_row}')\n",
        "print(f'Ones Square Matrix: \\n{ones_mat_sqr}')\n",
        "print(f'Ones Rectangular Matrix: \\n{ones_mat_rct}')"
      ],
      "metadata": {
        "colab": {
          "base_uri": "https://localhost:8080/"
        },
        "id": "wpfoxiFBDrfd",
        "outputId": "25c121e6-c3bd-4562-c539-677fe60971f5"
      },
      "execution_count": null,
      "outputs": [
        {
          "output_type": "stream",
          "name": "stdout",
          "text": [
            "Ones Row Matrix: \n",
            "[[1. 1.]]\n",
            "Ones Square Matrix: \n",
            "[[1. 1.]\n",
            " [1. 1.]]\n",
            "Ones Rectangular Matrix: \n",
            "[[1. 1.]\n",
            " [1. 1.]\n",
            " [1. 1.]]\n"
          ]
        }
      ]
    },
    {
      "cell_type": "markdown",
      "source": [
        "###Diagonal Matrix\n",
        "A diagonal matrix is a square matrix that has values only at the diagonal of the matrix."
      ],
      "metadata": {
        "id": "9KevbppNEmE-"
      }
    },
    {
      "cell_type": "code",
      "source": [
        "np.array([\n",
        "          [14,0,0],\n",
        "          [0,30,0],\n",
        "          [0,0,25]     \n",
        "])\n",
        "# a[1,1], a[2,2], a[3,3], ... a[n-1,n-1]"
      ],
      "metadata": {
        "colab": {
          "base_uri": "https://localhost:8080/"
        },
        "id": "0qYQRyJDEsiv",
        "outputId": "b22c6ecc-39fb-4f29-c8a3-e75779049887"
      },
      "execution_count": null,
      "outputs": [
        {
          "output_type": "execute_result",
          "data": {
            "text/plain": [
              "array([[14,  0,  0],\n",
              "       [ 0, 30,  0],\n",
              "       [ 0,  0, 25]])"
            ]
          },
          "metadata": {},
          "execution_count": 15
        }
      ]
    },
    {
      "cell_type": "markdown",
      "source": [
        "---shortcut below---"
      ],
      "metadata": {
        "id": "1BjbbKJaFGMR"
      }
    },
    {
      "cell_type": "code",
      "source": [
        "d = np.diag([14,30,25,17])\n",
        "d.shape[0] == d.shape[1]\n",
        "d"
      ],
      "metadata": {
        "colab": {
          "base_uri": "https://localhost:8080/"
        },
        "id": "e3lyCPD2FIHA",
        "outputId": "faa96560-b549-41dd-ba44-08e7ad66a6fb"
      },
      "execution_count": null,
      "outputs": [
        {
          "output_type": "execute_result",
          "data": {
            "text/plain": [
              "array([[14,  0,  0,  0],\n",
              "       [ 0, 30,  0,  0],\n",
              "       [ 0,  0, 25,  0],\n",
              "       [ 0,  0,  0, 17]])"
            ]
          },
          "metadata": {},
          "execution_count": 16
        }
      ]
    },
    {
      "cell_type": "markdown",
      "source": [
        "###Identity Matrix\n",
        "An identity matrix is a special diagonal matrix in which the values at the diagonal are ones."
      ],
      "metadata": {
        "id": "izKEYqa6F2H-"
      }
    },
    {
      "cell_type": "code",
      "source": [
        "np.eye(4)\n",
        "\n"
      ],
      "metadata": {
        "colab": {
          "base_uri": "https://localhost:8080/"
        },
        "id": "oZdMx11rF85n",
        "outputId": "6a297c4f-76e2-47b6-f9d6-43b7d79e6218"
      },
      "execution_count": null,
      "outputs": [
        {
          "output_type": "execute_result",
          "data": {
            "text/plain": [
              "array([[1., 0., 0., 0.],\n",
              "       [0., 1., 0., 0.],\n",
              "       [0., 0., 1., 0.],\n",
              "       [0., 0., 0., 1.]])"
            ]
          },
          "metadata": {},
          "execution_count": 21
        }
      ]
    },
    {
      "cell_type": "code",
      "source": [
        "np.identity(6)"
      ],
      "metadata": {
        "colab": {
          "base_uri": "https://localhost:8080/"
        },
        "id": "wExUAwvZ2AFy",
        "outputId": "fdf8b34c-c837-4a85-d3fb-d422a69ac36a"
      },
      "execution_count": null,
      "outputs": [
        {
          "output_type": "execute_result",
          "data": {
            "text/plain": [
              "array([[1., 0., 0., 0., 0., 0.],\n",
              "       [0., 1., 0., 0., 0., 0.],\n",
              "       [0., 0., 1., 0., 0., 0.],\n",
              "       [0., 0., 0., 1., 0., 0.],\n",
              "       [0., 0., 0., 0., 1., 0.],\n",
              "       [0., 0., 0., 0., 0., 1.]])"
            ]
          },
          "metadata": {},
          "execution_count": 58
        }
      ]
    },
    {
      "cell_type": "markdown",
      "source": [
        "##Upper Triangular Matrix\n",
        "An upper triangular matrix is a matrix that has no values below the diagonal."
      ],
      "metadata": {
        "id": "TZd23BpTGh69"
      }
    },
    {
      "cell_type": "code",
      "source": [
        "np.array([\n",
        "   [1,8,2,9],\n",
        "   [0,3,1,-2],\n",
        "   [0,0,13,2],\n",
        "   [0,0,0,18]       \n",
        "])"
      ],
      "metadata": {
        "colab": {
          "base_uri": "https://localhost:8080/"
        },
        "id": "et-CNXvv26rT",
        "outputId": "6df0dd56-81f2-477e-98d0-67d77d3ff310"
      },
      "execution_count": null,
      "outputs": [
        {
          "output_type": "execute_result",
          "data": {
            "text/plain": [
              "array([[ 1,  8,  2,  9],\n",
              "       [ 0,  3,  1, -2],\n",
              "       [ 0,  0, 13,  2],\n",
              "       [ 0,  0,  0, 18]])"
            ]
          },
          "metadata": {},
          "execution_count": 62
        }
      ]
    },
    {
      "cell_type": "markdown",
      "source": [
        "##Lower Triangular Matrix\n",
        "This is the opposite of upper triangular where there is no values above the diagonal."
      ],
      "metadata": {
        "id": "UOhSmsGZGsRe"
      }
    },
    {
      "cell_type": "code",
      "source": [
        "np.array([\n",
        "    [19,0,0],\n",
        "    [43,65,0],\n",
        "    [86,18,25]\n",
        "])"
      ],
      "metadata": {
        "colab": {
          "base_uri": "https://localhost:8080/"
        },
        "id": "Iq9QzwpJlnGF",
        "outputId": "bba0a0de-b277-487a-853b-b3850ca74bb5"
      },
      "execution_count": null,
      "outputs": [
        {
          "output_type": "execute_result",
          "data": {
            "text/plain": [
              "array([[19,  0,  0],\n",
              "       [43, 65,  0],\n",
              "       [86, 18, 25]])"
            ]
          },
          "metadata": {},
          "execution_count": 63
        }
      ]
    },
    {
      "cell_type": "markdown",
      "source": [
        "#Practice"
      ],
      "metadata": {
        "id": "Q4C7yG-Clo6e"
      }
    },
    {
      "cell_type": "markdown",
      "source": [
        "1. Given the linear combination below, try to create a corresponding matrix representing it."
      ],
      "metadata": {
        "id": "gOuUK6qcluXN"
      }
    },
    {
      "cell_type": "markdown",
      "source": [
        ":$$\\theta = 5x + 3y - z$$\n"
      ],
      "metadata": {
        "id": "ao15sxUIlvRW"
      }
    },
    {
      "cell_type": "markdown",
      "source": [
        "**Answer**"
      ],
      "metadata": {
        "id": "PjX2qu4-xGVt"
      }
    },
    {
      "cell_type": "code",
      "source": [
        "num_1 = np.array([\n",
        "    [5, 3, -1]\n",
        "])\n",
        "print (num_1)"
      ],
      "metadata": {
        "colab": {
          "base_uri": "https://localhost:8080/"
        },
        "id": "QP48RMGpuLe5",
        "outputId": "502d4ac0-3224-4113-d600-5bb83c8794a3"
      },
      "execution_count": null,
      "outputs": [
        {
          "output_type": "stream",
          "name": "stdout",
          "text": [
            "[[ 5  3 -1]]\n"
          ]
        }
      ]
    },
    {
      "cell_type": "markdown",
      "source": [
        "2. Given the system of linear combinations below, try to encode it as a matrix. Also describe the matrix.\n"
      ],
      "metadata": {
        "id": "h1NhAxumlyrt"
      }
    },
    {
      "cell_type": "markdown",
      "source": [
        "$$\n",
        "A = \\left\\{\\begin{array}\n",
        "5x_1 + 2x_2 +x_3\\\\\n",
        "4x_2 - x_3\\\\\n",
        "10x_3\n",
        "\\end{array}\\right.\n",
        "$$\n"
      ],
      "metadata": {
        "id": "1NHyzYhsl1Hx"
      }
    },
    {
      "cell_type": "markdown",
      "source": [
        "**Answer**"
      ],
      "metadata": {
        "id": "tMsyk7gVxJCx"
      }
    },
    {
      "cell_type": "code",
      "source": [
        "num_2 = np.array([\n",
        "    [1, 2, 1],\n",
        "    [0, 4, -1],\n",
        "    [0, 0, 10]  \n",
        "])\n",
        "describe_mat(num_2)"
      ],
      "metadata": {
        "colab": {
          "base_uri": "https://localhost:8080/"
        },
        "id": "d24Edkmoub0d",
        "outputId": "a9487ace-aae3-49b8-d216-2a92117f3985"
      },
      "execution_count": null,
      "outputs": [
        {
          "output_type": "stream",
          "name": "stdout",
          "text": [
            "Matrix:\n",
            "[[ 1  2  1]\n",
            " [ 0  4 -1]\n",
            " [ 0  0 10]]\n",
            "\n",
            "Shape:\t(3, 3)\n",
            "Rank:\t2\n",
            "Is Square: True\n",
            "\n"
          ]
        }
      ]
    },
    {
      "cell_type": "markdown",
      "source": [
        "3. Given the matrix below, express it as a linear combination in a markdown and a LaTeX markdown.\n"
      ],
      "metadata": {
        "id": "QefCiH2Yl6ay"
      }
    },
    {
      "cell_type": "code",
      "source": [
        "G = np.array([\n",
        "    [1, 7, 8],\n",
        "    [2, 2, 2],\n",
        "    [4, 6, 7]\n",
        "])"
      ],
      "metadata": {
        "id": "Ci-LhXQhl9k1"
      },
      "execution_count": null,
      "outputs": []
    },
    {
      "cell_type": "markdown",
      "source": [
        "**Answer**"
      ],
      "metadata": {
        "id": "ce1EQAgjxMUI"
      }
    },
    {
      "cell_type": "markdown",
      "source": [
        "Linear Combination:\n",
        "$$\n",
        "G = \\left\\{\n",
        "    \\begin{array}\\\n",
        "        x_1+7x_2+8x_3 \\\\ \n",
        "        2x_1+2x_2+2x_3 \\\\\n",
        "        4x_1+6x_2+7x_3\n",
        "    \\end{array}\n",
        "\\right. $$"
      ],
      "metadata": {
        "id": "CPJ6aNG1vD9r"
      }
    },
    {
      "cell_type": "markdown",
      "source": [
        "LaTeX:\n",
        "$$\n",
        "G=\\begin{bmatrix} 1 & 7 & 8 \\\\ 2 & 2 & 2 \\\\ 4 & 6 & 7\\end{bmatrix}\n",
        "$$"
      ],
      "metadata": {
        "id": "VQEhJj3fv4Sx"
      }
    },
    {
      "cell_type": "markdown",
      "source": [
        "4. Given the matrix below, display the output as a LaTeX markdown also express it as a system of linear combinations."
      ],
      "metadata": {
        "id": "iz2UKqDhl-Nr"
      }
    },
    {
      "cell_type": "code",
      "source": [
        "H = np.tril(G)\n",
        "H"
      ],
      "metadata": {
        "colab": {
          "base_uri": "https://localhost:8080/"
        },
        "id": "hU6cOvQ9mAr7",
        "outputId": "2bcc1c25-09c6-4422-a08c-20b6a46053f8"
      },
      "execution_count": null,
      "outputs": [
        {
          "output_type": "execute_result",
          "data": {
            "text/plain": [
              "array([[1, 0, 0],\n",
              "       [2, 2, 0],\n",
              "       [4, 6, 7]])"
            ]
          },
          "metadata": {},
          "execution_count": 30
        }
      ]
    },
    {
      "cell_type": "markdown",
      "source": [
        "**Answer**"
      ],
      "metadata": {
        "id": "nE48unSMxOv6"
      }
    },
    {
      "cell_type": "markdown",
      "source": [
        "Linear Combination:\n",
        "$$\n",
        "H = \\left\\{\n",
        "    \\begin{array}\\\n",
        "        x_1 \\\\ \n",
        "        2x_1+2x_2\\\\\n",
        "        4x_1+6x_2+7x_3\n",
        "    \\end{array}\n",
        "\\right. $$"
      ],
      "metadata": {
        "id": "xPcir2zYwU1l"
      }
    },
    {
      "cell_type": "markdown",
      "source": [
        "LaTeX:\n",
        "$$\n",
        "H=\\begin{bmatrix} 1 & 0 & 0 \\\\ 2 & 2 & 0 \\\\ 4 & 6 & 7\\end{bmatrix}\n",
        "$$"
      ],
      "metadata": {
        "id": "FdtnGew2whPy"
      }
    },
    {
      "cell_type": "markdown",
      "source": [
        "#Matrix Algebra"
      ],
      "metadata": {
        "id": "_f83N6_-xU7K"
      }
    },
    {
      "cell_type": "markdown",
      "source": [
        "###Addition"
      ],
      "metadata": {
        "id": "sSn8VxprqdP_"
      }
    },
    {
      "cell_type": "code",
      "source": [
        "A = np.array([\n",
        "    [4,6],\n",
        "    [9,2],\n",
        "    [9,3]\n",
        "])\n",
        "B = np.array([\n",
        "    [7,8],\n",
        "    [1,5],\n",
        "    [2,6]\n",
        "])\n",
        "A+B"
      ],
      "metadata": {
        "colab": {
          "base_uri": "https://localhost:8080/"
        },
        "id": "eZWNzxEwqh6V",
        "outputId": "cec22296-6bd7-4430-d652-d7c443296938"
      },
      "execution_count": null,
      "outputs": [
        {
          "output_type": "execute_result",
          "data": {
            "text/plain": [
              "array([[11, 14],\n",
              "       [10,  7],\n",
              "       [11,  9]])"
            ]
          },
          "metadata": {},
          "execution_count": 8
        }
      ]
    },
    {
      "cell_type": "code",
      "source": [
        "2+A ##Broadcasting\n",
        "# 2*np.ones(A.shape)+A"
      ],
      "metadata": {
        "colab": {
          "base_uri": "https://localhost:8080/"
        },
        "id": "44b5VVxvqojD",
        "outputId": "ea350486-77f3-4e1f-ddf0-1386c8d719f9"
      },
      "execution_count": null,
      "outputs": [
        {
          "output_type": "execute_result",
          "data": {
            "text/plain": [
              "array([[ 6,  8],\n",
              "       [11,  4],\n",
              "       [11,  5]])"
            ]
          },
          "metadata": {},
          "execution_count": 82
        }
      ]
    },
    {
      "cell_type": "markdown",
      "source": [
        "###Subtraction"
      ],
      "metadata": {
        "id": "aE4ZN3zaqrE5"
      }
    },
    {
      "cell_type": "code",
      "source": [
        "A-B"
      ],
      "metadata": {
        "colab": {
          "base_uri": "https://localhost:8080/"
        },
        "id": "-G4gIJHJqsxn",
        "outputId": "10e79f37-0d1c-43a6-9b67-5ac3564c2d55"
      },
      "execution_count": null,
      "outputs": [
        {
          "output_type": "execute_result",
          "data": {
            "text/plain": [
              "array([[-3, -2],\n",
              "       [ 8, -3],\n",
              "       [ 7, -3]])"
            ]
          },
          "metadata": {},
          "execution_count": 83
        }
      ]
    },
    {
      "cell_type": "code",
      "source": [
        "3-B == 3*np.ones(B.shape)-B"
      ],
      "metadata": {
        "colab": {
          "base_uri": "https://localhost:8080/"
        },
        "id": "44La1aawqwbB",
        "outputId": "65df106b-fb86-4a4d-8530-4ba671a4dde8"
      },
      "execution_count": null,
      "outputs": [
        {
          "output_type": "execute_result",
          "data": {
            "text/plain": [
              "array([[ True,  True],\n",
              "       [ True,  True],\n",
              "       [ True,  True]])"
            ]
          },
          "metadata": {},
          "execution_count": 84
        }
      ]
    },
    {
      "cell_type": "markdown",
      "source": [
        "###Element-Wise Multiplication"
      ],
      "metadata": {
        "id": "UZQ_gkrNqySK"
      }
    },
    {
      "cell_type": "code",
      "source": [
        "A*B\n",
        "np.multiply(A,B)"
      ],
      "metadata": {
        "colab": {
          "base_uri": "https://localhost:8080/"
        },
        "id": "cRB1xeIhq0mE",
        "outputId": "a09389ce-a13c-44d5-a94b-219beaec5353"
      },
      "execution_count": null,
      "outputs": [
        {
          "output_type": "execute_result",
          "data": {
            "text/plain": [
              "array([[28, 48],\n",
              "       [ 9, 10],\n",
              "       [18, 18]])"
            ]
          },
          "metadata": {},
          "execution_count": 85
        }
      ]
    },
    {
      "cell_type": "code",
      "source": [
        "2*A"
      ],
      "metadata": {
        "colab": {
          "base_uri": "https://localhost:8080/"
        },
        "id": "bc81mTy_q2Pc",
        "outputId": "9cdf38a4-322c-4190-c706-92864a062c62"
      },
      "execution_count": null,
      "outputs": [
        {
          "output_type": "execute_result",
          "data": {
            "text/plain": [
              "array([[ 8, 12],\n",
              "       [18,  4],\n",
              "       [18,  6]])"
            ]
          },
          "metadata": {},
          "execution_count": 86
        }
      ]
    },
    {
      "cell_type": "markdown",
      "source": [
        "#Activity"
      ],
      "metadata": {
        "id": "aYxYZviDrBuJ"
      }
    },
    {
      "cell_type": "markdown",
      "source": [
        "##Task 1\n",
        "Create a function named mat_desc() that througouhly describes a matrix, it should:\n",
        "\n",
        "  1. Displays the shape, size, and rank of the matrix.\n",
        "  2. Displays whether the matrix is square or non-square.\n",
        "  3. Displays whether the matrix is an empty matrix.\n",
        "  4. Displays if the matrix is an identity, ones, or zeros matrix\n",
        "\n",
        "Use 5 sample matrices in which their shapes are not lower than (3,3). Create a flowchart discuss the functions and methods you have done. \n",
        "Present your results in the results section showing the description of each matrix you have declared."
      ],
      "metadata": {
        "id": "er3gFBx7rEyO"
      }
    },
    {
      "cell_type": "code",
      "source": [
        "#functions\n",
        "import numpy as np"
      ],
      "metadata": {
        "id": "0cAn4hXbby6x"
      },
      "execution_count": null,
      "outputs": []
    },
    {
      "cell_type": "code",
      "source": [
        "# mat_desc functions and descriptions\n",
        "\n",
        "def mat_desc(mat):\n",
        "  sq = False\n",
        "  mat = np.array(mat)\n",
        "  print(mat)\n",
        "  print('Shape', mat.shape)\n",
        "  print('Size', mat.size)\n",
        "  print('Rank', np.linalg.matrix_rank(mat))\n",
        "  if(mat.shape[0] == mat.shape[1]):\n",
        "    sq = True\n",
        "    print('Square Matrix')\n",
        "  else: \n",
        "    print('Non-Square Matrix')\n",
        "  if(mat.shape[0] == 0 and mat.shape[1] == 0):\n",
        "    print('Empty Matrix')\n",
        "  else:\n",
        "    print('Matrix is not empty')\n",
        "  iden = np.identity(mat.shape[0])\n",
        "  if(sq and (iden == mat).all()):\n",
        "    print('Identity Matrix')\n",
        "  else:\n",
        "    print('Not an Identity Matrix')\n",
        "  one = np.ones((mat.shape[0], mat.shape[1]))\n",
        "  if(one == mat).all ():\n",
        "    print('Ones Matrix')\n",
        "  else:\n",
        "    print('Not a Ones Matrix')\n",
        "  zero = np.zeros((mat.shape[0], mat.shape[1]))\n",
        "  if((zero == mat).all()):\n",
        "    print('Zero Matrix')\n",
        "  else:\n",
        "    print('Non-Zero Matrix')"
      ],
      "metadata": {
        "id": "q84FIyjHrRnf"
      },
      "execution_count": null,
      "outputs": []
    },
    {
      "cell_type": "code",
      "source": [
        "print('Matrix A:')\n",
        "mat_desc([\n",
        "    [2, 14, 7],\n",
        "    [1, 3, 8],\n",
        "    [95, 32, 6],\n",
        "    [19, 5, 17]\n",
        "])"
      ],
      "metadata": {
        "colab": {
          "base_uri": "https://localhost:8080/"
        },
        "id": "7DF8FlTUrZTV",
        "outputId": "c04f3fef-43df-460f-c3c2-762a1b891ce6"
      },
      "execution_count": null,
      "outputs": [
        {
          "output_type": "stream",
          "name": "stdout",
          "text": [
            "Matrix A:\n",
            "[[ 2 14  7]\n",
            " [ 1  3  8]\n",
            " [95 32  6]\n",
            " [19  5 17]]\n",
            "Shape (4, 3)\n",
            "Size 12\n",
            "Rank 3\n",
            "Non-Square Matrix\n",
            "Matrix is not empty\n",
            "Not an Identity Matrix\n",
            "Not a Ones Matrix\n",
            "Non-Zero Matrix\n"
          ]
        }
      ]
    },
    {
      "cell_type": "code",
      "source": [
        "print('Matrix B:')\n",
        "mat_desc([\n",
        "    [0, 0, 0, 0],\n",
        "    [0, 0, 0, 0],\n",
        "    [0, 0, 0, 0],\n",
        "    [0, 0, 0, 0],\n",
        "    [0, 0, 0, 0]\n",
        "])\n"
      ],
      "metadata": {
        "colab": {
          "base_uri": "https://localhost:8080/"
        },
        "id": "s51KzN5_rtd1",
        "outputId": "93091271-7e5e-40d1-b62b-9673632b31f4"
      },
      "execution_count": null,
      "outputs": [
        {
          "output_type": "stream",
          "name": "stdout",
          "text": [
            "Matrix B:\n",
            "[[0 0 0 0]\n",
            " [0 0 0 0]\n",
            " [0 0 0 0]\n",
            " [0 0 0 0]\n",
            " [0 0 0 0]]\n",
            "Shape (5, 4)\n",
            "Size 20\n",
            "Rank 0\n",
            "Non-Square Matrix\n",
            "Matrix is not empty\n",
            "Not an Identity Matrix\n",
            "Not a Ones Matrix\n",
            "Zero Matrix\n"
          ]
        }
      ]
    },
    {
      "cell_type": "code",
      "source": [
        "print('Matrix C:')\n",
        "mat_desc([\n",
        "    [1,1,1,1,1],\n",
        "    [1,1,1,1,1],\n",
        "    [1,1,1,1,1],\n",
        "    [1,1,1,1,1],\n",
        "    [1,1,1,1,1]\n",
        "])"
      ],
      "metadata": {
        "colab": {
          "base_uri": "https://localhost:8080/"
        },
        "id": "5SZAGIC7BXfB",
        "outputId": "3fea5b90-9554-4e11-f4dd-013aa9426fd4"
      },
      "execution_count": null,
      "outputs": [
        {
          "output_type": "stream",
          "name": "stdout",
          "text": [
            "Matrix C:\n",
            "[[1 1 1 1 1]\n",
            " [1 1 1 1 1]\n",
            " [1 1 1 1 1]\n",
            " [1 1 1 1 1]\n",
            " [1 1 1 1 1]]\n",
            "Shape (5, 5)\n",
            "Size 25\n",
            "Rank 1\n",
            "Square Matrix\n",
            "Matrix is not empty\n",
            "Not an Identity Matrix\n",
            "Ones Matrix\n",
            "Non-Zero Matrix\n"
          ]
        }
      ]
    },
    {
      "cell_type": "code",
      "source": [
        "print('Matrix D:')\n",
        "mat_desc([\n",
        "    [40, 32, 24, 3, 4, 0],\n",
        "    [11, 8, 52, 25, 89, -2],\n",
        "    [95, 16, 59, 4, 45, 9],\n",
        "    [22, 46, 91, 1, -34, 77],\n",
        "    [31, 36, 2, 96, 51, 95]\n",
        "])\n"
      ],
      "metadata": {
        "colab": {
          "base_uri": "https://localhost:8080/"
        },
        "id": "Zh0QD32QrwWT",
        "outputId": "b6896a17-a73a-447d-dc7e-fa62820b8130"
      },
      "execution_count": null,
      "outputs": [
        {
          "output_type": "stream",
          "name": "stdout",
          "text": [
            "Matrix D:\n",
            "[[ 40  32  24   3   4   0]\n",
            " [ 11   8  52  25  89  -2]\n",
            " [ 95  16  59   4  45   9]\n",
            " [ 22  46  91   1 -34  77]\n",
            " [ 31  36   2  96  51  95]]\n",
            "Shape (5, 6)\n",
            "Size 30\n",
            "Rank 5\n",
            "Non-Square Matrix\n",
            "Matrix is not empty\n",
            "Not an Identity Matrix\n",
            "Not a Ones Matrix\n",
            "Non-Zero Matrix\n"
          ]
        }
      ]
    },
    {
      "cell_type": "code",
      "source": [
        "print('Matrix E:')\n",
        "mat_desc([\n",
        "    [0,1,1,1,1],\n",
        "    [1,1,0,1,1],\n",
        "    [1,1,1,0,1],\n",
        "    [1,1,1,1,0],\n",
        "    [1,1,1,0,1],\n",
        "    [1,1,1,1,1]\n",
        "])"
      ],
      "metadata": {
        "id": "rJ3kQxj1svt5",
        "colab": {
          "base_uri": "https://localhost:8080/"
        },
        "outputId": "8f0192ca-8edb-43b6-fea9-cc3f01f685e3"
      },
      "execution_count": null,
      "outputs": [
        {
          "output_type": "stream",
          "name": "stdout",
          "text": [
            "Matrix E:\n",
            "[[0 1 1 1 1]\n",
            " [1 1 0 1 1]\n",
            " [1 1 1 0 1]\n",
            " [1 1 1 1 0]\n",
            " [1 1 1 0 1]\n",
            " [1 1 1 1 1]]\n",
            "Shape (6, 5)\n",
            "Size 30\n",
            "Rank 5\n",
            "Non-Square Matrix\n",
            "Matrix is not empty\n",
            "Not an Identity Matrix\n",
            "Not a Ones Matrix\n",
            "Non-Zero Matrix\n"
          ]
        }
      ]
    },
    {
      "cell_type": "markdown",
      "source": [
        "##Task 2\n",
        "Create a function named mat_operations() that takes in two matrices a input parameters it should:\n",
        "\n",
        "Determines if the matrices are viable for operation and returns your own error message if they are not viable.\n",
        "Returns the sum of the matrices.\n",
        "Returns the difference of the matrices.\n",
        "Returns the element-wise multiplication of the matrices.\n",
        "Returns the element-wise division of the matrices.\n",
        "Use 3 sample matrices in which their shapes are not lower than (3, 3). In your methodology, create a flowchart discuss the functions and methods you have done. Present your results in the results section showing the description of each matrix you have declared."
      ],
      "metadata": {
        "id": "fEF_hFmfszRM"
      }
    },
    {
      "cell_type": "code",
      "source": [
        "import numpy as np\n",
        "import matplotlib.pyplot as plt\n",
        "import scipy.linalg as la\n",
        "%matplotlib inline"
      ],
      "metadata": {
        "id": "Rn75WLwmJExo"
      },
      "execution_count": 1,
      "outputs": []
    },
    {
      "cell_type": "code",
      "source": [
        "# mat_operations function\n",
        "\n",
        "def mat_operations(matrix):\n",
        "  print(f'{matrix}')"
      ],
      "metadata": {
        "id": "haSUh04-sz8-"
      },
      "execution_count": 2,
      "outputs": []
    },
    {
      "cell_type": "code",
      "source": [
        "##Creating Matrices\n",
        "RF = int(input('Enter your desired number of rows:'))\n",
        "CF = int(input('Enter your desired number of columns:'))\n",
        "print('\\nEnter',RF*CF, 'values for Matrix F\\n\\t(NOTE: Use space for separating the values entered)\\n\\t(NOTE: Your first ',CF,' number/s will be designated as the first row):')\n",
        "mF = list(map(int, input().split()))\n",
        "mat_F = np.array(mF).reshape(RF, CF)\n",
        "print('\\nMatrix F is:')\n",
        "mat_operations(mat_F)\n",
        "\n",
        "print ('------------------------------------------')\n",
        "\n",
        "RG = int(input('Enter your desired number of rows:'))\n",
        "CG = int(input('Enter your desired number of columns:'))\n",
        "print('\\nEnter',RG*CG, 'values for Matrix G\\n\\t(NOTE: Use space for separating the values entered)\\n\\t(NOTE: Your first ',CG,' number/s will be designated as the first row):')\n",
        "mG = list(map(int, input().split()))\n",
        "mat_G = np.array(mG).reshape(RG, CG)\n",
        "print('\\nMatrix G is:')\n",
        "mat_operations(mat_G)\n",
        "\n",
        "print ('------------------------------------------')\n",
        "\n",
        "RH = int(input('Enter your desired number of rows:'))\n",
        "CH = int(input('Enter your desired number of columns:'))\n",
        "print('\\nEnter',RH*CH, 'values for Matrix H\\n\\t(NOTE: Use space for separating the values entered)\\n\\t(NOTE: Your first ',CH,' number/s will be designated as the first row):')\n",
        "mH = list(map(int, input().split()))\n",
        "mat_H = np.array(mH).reshape(RH, CH)\n",
        "print('\\nMatrix H is:')\n",
        "mat_operations(mat_H)\n",
        "\n",
        "print ('------------------------------------------')\n",
        "\n",
        "RI = int(input('Enter your desired number of rows:'))\n",
        "CI = int(input('Enter your desired number of columns:'))\n",
        "print('\\nEnter',RI*CI, 'values for Matrix I\\n\\t(NOTE: Use space for separating the values entered)\\n\\t(NOTE: Your first ',CI,' number/s will be designated as the first row):')\n",
        "mI = list(map(int, input().split()))\n",
        "mat_I = np.array(mI).reshape(RI, CI)\n",
        "print('\\nMatrix I is:')\n",
        "mat_operations(mat_I)\n"
      ],
      "metadata": {
        "colab": {
          "base_uri": "https://localhost:8080/"
        },
        "id": "o4G3BmJEKLeD",
        "outputId": "71d517e8-67d2-4b9b-d51a-5a267c397410"
      },
      "execution_count": 3,
      "outputs": [
        {
          "output_type": "stream",
          "name": "stdout",
          "text": [
            "Enter your desired number of rows:3\n",
            "Enter your desired number of columns:3\n",
            "\n",
            "Enter 9 values for Matrix F\n",
            "\t(NOTE: Use space for separating the values entered)\n",
            "\t(NOTE: Your first  3  number/s will be designated as the first row):\n",
            "1 -22 3 4 52 6 0 8 -19 \n",
            "\n",
            "Matrix F is:\n",
            "[[  1 -22   3]\n",
            " [  4  52   6]\n",
            " [  0   8 -19]]\n",
            "------------------------------------------\n",
            "Enter your desired number of rows:4\n",
            "Enter your desired number of columns:4\n",
            "\n",
            "Enter 16 values for Matrix G\n",
            "\t(NOTE: Use space for separating the values entered)\n",
            "\t(NOTE: Your first  4  number/s will be designated as the first row):\n",
            "12 -3 44 76 -9 -8 -4 2 -13 7 -16 21 -5 18 34 51\n",
            "\n",
            "Matrix G is:\n",
            "[[ 12  -3  44  76]\n",
            " [ -9  -8  -4   2]\n",
            " [-13   7 -16  21]\n",
            " [ -5  18  34  51]]\n",
            "------------------------------------------\n",
            "Enter your desired number of rows:5\n",
            "Enter your desired number of columns:4\n",
            "\n",
            "Enter 20 values for Matrix H\n",
            "\t(NOTE: Use space for separating the values entered)\n",
            "\t(NOTE: Your first  4  number/s will be designated as the first row):\n",
            "29 21 23 3 4 6 10 87 -9 34 65 -1 23 0 19 -6 13 22 96 -21\n",
            "\n",
            "Matrix H is:\n",
            "[[ 29  21  23   3]\n",
            " [  4   6  10  87]\n",
            " [ -9  34  65  -1]\n",
            " [ 23   0  19  -6]\n",
            " [ 13  22  96 -21]]\n",
            "------------------------------------------\n",
            "Enter your desired number of rows:4\n",
            "Enter your desired number of columns:4\n",
            "\n",
            "Enter 16 values for Matrix I\n",
            "\t(NOTE: Use space for separating the values entered)\n",
            "\t(NOTE: Your first  4  number/s will be designated as the first row):\n",
            "10 87 -9 34 65 -1 22 3 4 13 22 96 -21 0 12 -2\n",
            "\n",
            "Matrix I is:\n",
            "[[ 10  87  -9  34]\n",
            " [ 65  -1  22   3]\n",
            " [  4  13  22  96]\n",
            " [-21   0  12  -2]]\n"
          ]
        }
      ]
    },
    {
      "cell_type": "code",
      "source": [
        "##Determination of the viability in operation of matrices\n",
        "print('Matrix F:')\n",
        "mat_operations(mat_F)\n",
        "print('Matrix G:')\n",
        "mat_operations(mat_G)\n",
        "result1 = (mat_F.shape == mat_G.shape)\n",
        "if result1:\n",
        "  print('\\nMatrix F and Matrix G are VIABLE for operation')\n",
        "else:\n",
        "  print('\\nMatrix F and Matrix G are NOT VIABLE for operation')\n",
        "\n",
        "print ('------------------------------------------')\n",
        "\n",
        "print('Matrix G:')\n",
        "mat_operations(mat_G)\n",
        "print('Matrix H:')\n",
        "mat_operations(mat_H)\n",
        "result2 = (mat_G.shape == mat_H.shape)\n",
        "if result2:\n",
        "  print('\\nMatrix G and Matrix H are VIABLE for operation')\n",
        "else:\n",
        "  print('\\nMatrix G and Matrix H are NOT VIABLE for operation')\n",
        "\n",
        "print ('------------------------------------------')\n",
        "\n",
        "print('Matrix F:')\n",
        "mat_operations(mat_F)\n",
        "print('Matrix H:')\n",
        "mat_operations(mat_H)\n",
        "result3 = (mat_F.shape == mat_H.shape)\n",
        "if result3:\n",
        "  print('\\nMatrix F and Matrix H are VIABLE for operation')\n",
        "else:\n",
        "  print('\\nMatrix F and Matrix H are NOT VIABLE for operation')\n",
        "\n",
        "print ('------------------------------------------')\n",
        "\n",
        "print('Matrix G:')\n",
        "mat_operations(mat_G)\n",
        "print('Matrix I:')\n",
        "mat_operations(mat_I)\n",
        "result4 = (mat_G.shape == mat_I.shape)\n",
        "if result4:\n",
        "  print('\\nMatrix G and Matrix I are VIABLE for operation')\n",
        "else:\n",
        "  print('\\nMatrix G and Matrix I are NOT VIABLE for operation')"
      ],
      "metadata": {
        "colab": {
          "base_uri": "https://localhost:8080/"
        },
        "id": "Iig3YU7XUhfR",
        "outputId": "cc352f81-093a-4a1a-dc11-54811f8fcd99"
      },
      "execution_count": 4,
      "outputs": [
        {
          "output_type": "stream",
          "name": "stdout",
          "text": [
            "Matrix F:\n",
            "[[  1 -22   3]\n",
            " [  4  52   6]\n",
            " [  0   8 -19]]\n",
            "Matrix G:\n",
            "[[ 12  -3  44  76]\n",
            " [ -9  -8  -4   2]\n",
            " [-13   7 -16  21]\n",
            " [ -5  18  34  51]]\n",
            "\n",
            "Matrix F and Matrix G are NOT VIABLE for operation\n",
            "------------------------------------------\n",
            "Matrix G:\n",
            "[[ 12  -3  44  76]\n",
            " [ -9  -8  -4   2]\n",
            " [-13   7 -16  21]\n",
            " [ -5  18  34  51]]\n",
            "Matrix H:\n",
            "[[ 29  21  23   3]\n",
            " [  4   6  10  87]\n",
            " [ -9  34  65  -1]\n",
            " [ 23   0  19  -6]\n",
            " [ 13  22  96 -21]]\n",
            "\n",
            "Matrix G and Matrix H are NOT VIABLE for operation\n",
            "------------------------------------------\n",
            "Matrix F:\n",
            "[[  1 -22   3]\n",
            " [  4  52   6]\n",
            " [  0   8 -19]]\n",
            "Matrix H:\n",
            "[[ 29  21  23   3]\n",
            " [  4   6  10  87]\n",
            " [ -9  34  65  -1]\n",
            " [ 23   0  19  -6]\n",
            " [ 13  22  96 -21]]\n",
            "\n",
            "Matrix F and Matrix H are NOT VIABLE for operation\n",
            "------------------------------------------\n",
            "Matrix G:\n",
            "[[ 12  -3  44  76]\n",
            " [ -9  -8  -4   2]\n",
            " [-13   7 -16  21]\n",
            " [ -5  18  34  51]]\n",
            "Matrix I:\n",
            "[[ 10  87  -9  34]\n",
            " [ 65  -1  22   3]\n",
            " [  4  13  22  96]\n",
            " [-21   0  12  -2]]\n",
            "\n",
            "Matrix G and Matrix I are VIABLE for operation\n"
          ]
        }
      ]
    },
    {
      "cell_type": "code",
      "source": [
        "##Sum of the Matrices\n",
        "\n",
        "if result4:\n",
        "  sum_1 = mat_G + mat_I\n",
        "  print('Sum result 1:\\n',sum_1)\n",
        "else:\n",
        "  print(\"Matrix G and Matrix I are not viable for sum operation\")\n",
        "\n",
        "print ('------------------------------------------')\n",
        "if result1:\n",
        "  sum_3 = mat_F + mat_G\n",
        "  print('\\n\\nSum result 2:\\n',sum_3)\n",
        "else:\n",
        "  print(\"Sum result 2: Matrix F and Matrix G are not viable for sum operation\")\n",
        "\n",
        "print ('------------------------------------------')\n",
        "\n",
        "if result3:\n",
        "  sum_2 = mat_F + mat_H\n",
        "  print('\\n\\nSum result 2:\\n',sum_2)\n",
        "else:\n",
        "  print(\"Sum result 3: Matrix F and Matrix H are not viable for sum operation\")\n",
        "\n",
        "print ('------------------------------------------')"
      ],
      "metadata": {
        "colab": {
          "base_uri": "https://localhost:8080/"
        },
        "id": "73ixUgDFeEwT",
        "outputId": "52702cdd-b266-4b32-8ac2-9ccf69cfe931"
      },
      "execution_count": 5,
      "outputs": [
        {
          "output_type": "stream",
          "name": "stdout",
          "text": [
            "Sum result 1:\n",
            " [[ 22  84  35 110]\n",
            " [ 56  -9  18   5]\n",
            " [ -9  20   6 117]\n",
            " [-26  18  46  49]]\n",
            "------------------------------------------\n",
            "Sum result 2: Matrix F and Matrix G are not viable for sum operation\n",
            "------------------------------------------\n",
            "Sum result 3: Matrix F and Matrix H are not viable for sum operation\n",
            "------------------------------------------\n"
          ]
        }
      ]
    },
    {
      "cell_type": "code",
      "source": [
        "##Difference of the Matrices\n",
        "if result4:\n",
        "  d_1 = mat_G - mat_I\n",
        "  print('Difference result 1:\\n',d_1)\n",
        "else:\n",
        "  print(\"Difference result 1: Matrix G and Matrix I are not viable for differece operation\")\n",
        "\n",
        "print ('------------------------------------------')\n",
        "if result2:\n",
        "  d_2 = mat_G - mat_H\n",
        "  print('Difference result 2:\\n',d_2)\n",
        "else:\n",
        "  print(\"Difference result 2: Matrix G and Matrix H are not viable for difference operation\")\n",
        "\n",
        "print ('------------------------------------------')\n",
        "\n",
        "if result3:\n",
        "  d_3 = mat_F - mat_H\n",
        "  print('\\Difference result 3:\\n',d_2)\n",
        "else:\n",
        "  print(\"Difference result 3: Matrix F and Matrix H are not viable for difference operation\")\n",
        "\n",
        "print ('------------------------------------------')"
      ],
      "metadata": {
        "colab": {
          "base_uri": "https://localhost:8080/"
        },
        "id": "-sIyr332hZIX",
        "outputId": "22159ef8-576e-4d78-f328-9311a057d1e6"
      },
      "execution_count": 6,
      "outputs": [
        {
          "output_type": "stream",
          "name": "stdout",
          "text": [
            "Difference result 1:\n",
            " [[  2 -90  53  42]\n",
            " [-74  -7 -26  -1]\n",
            " [-17  -6 -38 -75]\n",
            " [ 16  18  22  53]]\n",
            "------------------------------------------\n",
            "Difference result 2: Matrix G and Matrix H are not viable for difference operation\n",
            "------------------------------------------\n",
            "Difference result 3: Matrix F and Matrix H are not viable for difference operation\n",
            "------------------------------------------\n"
          ]
        }
      ]
    },
    {
      "cell_type": "code",
      "source": [
        "##Element-Wise Multiplication of the Matrices\n",
        "if result2:\n",
        "  m_1 = mat_G * mat_H\n",
        "  print('Product result 1:\\n',m_1)\n",
        "else:\n",
        "  print(\"Product result 1: Matrix G and Matrix H are not viable for multiplication operation\")\n",
        "\n",
        "print ('------------------------------------------')\n",
        "\n",
        "if result3:\n",
        "  m_2 = mat_F * mat_H\n",
        "  print('Product result 2:\\n',m_2)\n",
        "else:\n",
        "  print(\"Product result 2: Matrix F and Matrix H are not viable for multiplication operation\")\n",
        "\n",
        "print ('------------------------------------------')\n",
        "\n",
        "if result4:\n",
        "  m_3 = mat_G * mat_I\n",
        "  print('Product result 3:\\n',m_3)\n",
        "else:\n",
        "  print(\"Product result 3: Matrix G and Matrix I are not viable for multiplication operation\")"
      ],
      "metadata": {
        "colab": {
          "base_uri": "https://localhost:8080/"
        },
        "id": "Iy42hCyTrWNW",
        "outputId": "aae3055c-9651-4088-9247-aa21257b354c"
      },
      "execution_count": 7,
      "outputs": [
        {
          "output_type": "stream",
          "name": "stdout",
          "text": [
            "Product result 1: Matrix G and Matrix H are not viable for multiplication operation\n",
            "------------------------------------------\n",
            "Product result 2: Matrix F and Matrix H are not viable for multiplication operation\n",
            "------------------------------------------\n",
            "Product result 3:\n",
            " [[ 120 -261 -396 2584]\n",
            " [-585    8  -88    6]\n",
            " [ -52   91 -352 2016]\n",
            " [ 105    0  408 -102]]\n"
          ]
        }
      ]
    },
    {
      "cell_type": "code",
      "source": [
        "##Element-Wise Division of the Matrices\n",
        "if result1:\n",
        "  dv_1 = mat_F * mat_G\n",
        "  print('Quotient result 1:\\n',dv_1)\n",
        "else:\n",
        "  print(\"Quotient result 1: Matrix F and Matrix G are not viable for division operation\")\n",
        "\n",
        "print ('------------------------------------------')\n",
        "\n",
        "if result2:\n",
        "  dv_2 = mat_G * mat_H\n",
        "  print('Quotient result 2:\\n',dv_2)\n",
        "else:\n",
        "  print(\"Quotient result 2: Matrix G and Matrix H are not viable for division operation\")\n",
        "\n",
        "print ('------------------------------------------')\n",
        "\n",
        "if result3:\n",
        "  dv_3 = mat_F * mat_H\n",
        "  print('Quotient result 3:\\n',dv_3)\n",
        "else:\n",
        "  print(\"Quotient result 3: Matrix F and Matrix H are not viable for division operation\")\n"
      ],
      "metadata": {
        "colab": {
          "base_uri": "https://localhost:8080/"
        },
        "id": "G7BXSBtot_-b",
        "outputId": "43af1f33-f03e-4649-f06d-0df93a1ae525"
      },
      "execution_count": 8,
      "outputs": [
        {
          "output_type": "stream",
          "name": "stdout",
          "text": [
            "Quotient result 1: Matrix F and Matrix G are not viable for division operation\n",
            "------------------------------------------\n",
            "Quotient result 2: Matrix G and Matrix H are not viable for division operation\n",
            "------------------------------------------\n",
            "Quotient result 3: Matrix F and Matrix H are not viable for division operation\n"
          ]
        }
      ]
    }
  ]
}