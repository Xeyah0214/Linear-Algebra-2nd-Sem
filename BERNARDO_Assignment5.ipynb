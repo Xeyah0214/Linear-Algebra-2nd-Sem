{
  "nbformat": 4,
  "nbformat_minor": 0,
  "metadata": {
    "colab": {
      "name": "BERNARDO_Assignment5.ipynb",
      "provenance": [],
      "authorship_tag": "ABX9TyNedqNAp1iLjQlTbbe6o2Lw",
      "include_colab_link": true
    },
    "kernelspec": {
      "name": "python3",
      "display_name": "Python 3"
    },
    "language_info": {
      "name": "python"
    }
  },
  "cells": [
    {
      "cell_type": "markdown",
      "metadata": {
        "id": "view-in-github",
        "colab_type": "text"
      },
      "source": [
        "<a href=\"https://colab.research.google.com/github/Xeyah0214/Linear-Algebra-2nd-Sem/blob/main/BERNARDO_Assignment5.ipynb\" target=\"_parent\"><img src=\"https://colab.research.google.com/assets/colab-badge.svg\" alt=\"Open In Colab\"/></a>"
      ]
    },
    {
      "cell_type": "markdown",
      "source": [
        "# Linear Algebra for ECE\n",
        "## Laboratory 6 : Matrix Operations\n"
      ],
      "metadata": {
        "id": "5UgB75s22TGO"
      }
    },
    {
      "cell_type": "markdown",
      "source": [
        "We'll try to do the same operations with matrices and even more now that you have a basic understanding of how to describe and operate with vectors and the principles of matrices."
      ],
      "metadata": {
        "id": "jmJj5D3l2WUi"
      }
    },
    {
      "cell_type": "markdown",
      "source": [
        "### Objectives\n",
        "At the end of this activity you will be able to:\n",
        "1. Be familiar with the fundamental matrix operations.\n",
        "2. Apply the operations to solve intermediate equations.\n",
        "3. Apply matrix algebra in engineering solutions."
      ],
      "metadata": {
        "id": "17oG5brf8vEX"
      }
    },
    {
      "cell_type": "markdown",
      "source": [
        "#Discussion"
      ],
      "metadata": {
        "id": "PPzNlPWI8zhl"
      }
    },
    {
      "cell_type": "code",
      "execution_count": null,
      "metadata": {
        "id": "oLeYuT9t8g5c"
      },
      "outputs": [],
      "source": [
        "import numpy as np\n",
        "import matplotlib.pyplot as plt\n",
        "%matplotlib inline\n"
      ]
    },
    {
      "cell_type": "markdown",
      "source": [
        "##Transposition\n",
        "One of the fundamental operations in matrix algebra is Transposition. The transpose of a matrix is done by flipping the values of its elements over its diagonals. With this, the rows and columns from the original matrix will be switched. So for matrix A, its transpose is denoted as $A^T$. So for example:\n",
        "\n",
        ":$$\n",
        "A=\\begin{bmatrix} 1 & 2 & 5 & \\\\ 5 & -1 & 0 & \\\\ 0 & 3 & 3 & \\end{bmatrix}\n",
        "$$\n",
        "\n",
        "\n",
        ":$$\n",
        "A^T=\\begin{bmatrix} 1 & 5 & 0 & \\\\ 2 & -1 & -3 & \\\\ 5 & 0 & 3 & \\end{bmatrix}\n",
        "$$"
      ],
      "metadata": {
        "id": "iCsDCNc581sj"
      }
    },
    {
      "cell_type": "code",
      "source": [
        "A = np.array([\n",
        "    [11, 22, 55],\n",
        "    [55, -11, 0],\n",
        "    [0, -33, 33]\n",
        "])\n"
      ],
      "metadata": {
        "id": "Ew98lg3_9pwM"
      },
      "execution_count": null,
      "outputs": []
    },
    {
      "cell_type": "code",
      "source": [
        "AT1 = np.transpose(A)\n",
        "AT1"
      ],
      "metadata": {
        "colab": {
          "base_uri": "https://localhost:8080/"
        },
        "id": "nNTnN-DW92lM",
        "outputId": "b7050d6f-8ed6-44bd-e8d0-59b32ada31b5"
      },
      "execution_count": null,
      "outputs": [
        {
          "output_type": "execute_result",
          "data": {
            "text/plain": [
              "array([[ 11,  55,   0],\n",
              "       [ 22, -11, -33],\n",
              "       [ 55,   0,  33]])"
            ]
          },
          "metadata": {},
          "execution_count": 3
        }
      ]
    },
    {
      "cell_type": "code",
      "source": [
        "AT2 = A.T\n",
        "AT2"
      ],
      "metadata": {
        "colab": {
          "base_uri": "https://localhost:8080/"
        },
        "id": "Aok_Vk7h-v60",
        "outputId": "d6901f90-8936-4fa5-c6d5-37a63db68f4f"
      },
      "execution_count": null,
      "outputs": [
        {
          "output_type": "execute_result",
          "data": {
            "text/plain": [
              "array([[ 11,  55,   0],\n",
              "       [ 22, -11, -33],\n",
              "       [ 55,   0,  33]])"
            ]
          },
          "metadata": {},
          "execution_count": 4
        }
      ]
    },
    {
      "cell_type": "code",
      "source": [
        "np.array_equiv(AT1, AT2)"
      ],
      "metadata": {
        "colab": {
          "base_uri": "https://localhost:8080/"
        },
        "id": "He647Nj5-08d",
        "outputId": "1f90092c-40da-4fc1-c1d4-472f7c36e617"
      },
      "execution_count": null,
      "outputs": [
        {
          "output_type": "execute_result",
          "data": {
            "text/plain": [
              "True"
            ]
          },
          "metadata": {},
          "execution_count": 5
        }
      ]
    },
    {
      "cell_type": "code",
      "source": [
        "B = np.array([\n",
        "    [1, 4, 2, 6],\n",
        "    [7, 9, 3, -2],\n",
        "    [5, -8, 0, 1]\n",
        "])\n",
        "B.shape"
      ],
      "metadata": {
        "colab": {
          "base_uri": "https://localhost:8080/"
        },
        "id": "7t03mfUa_b8F",
        "outputId": "ef0d3de8-1062-4355-bae1-c1cd8bcbe07b"
      },
      "execution_count": null,
      "outputs": [
        {
          "output_type": "execute_result",
          "data": {
            "text/plain": [
              "(3, 4)"
            ]
          },
          "metadata": {},
          "execution_count": 6
        }
      ]
    },
    {
      "cell_type": "code",
      "source": [
        "np.transpose(B).shape"
      ],
      "metadata": {
        "colab": {
          "base_uri": "https://localhost:8080/"
        },
        "id": "RHw3Fath_tiF",
        "outputId": "ce9e1f0d-0c4b-43d7-aca0-cc1a09f4de59"
      },
      "execution_count": null,
      "outputs": [
        {
          "output_type": "execute_result",
          "data": {
            "text/plain": [
              "(4, 3)"
            ]
          },
          "metadata": {},
          "execution_count": 7
        }
      ]
    },
    {
      "cell_type": "code",
      "source": [
        "B.T.shape"
      ],
      "metadata": {
        "colab": {
          "base_uri": "https://localhost:8080/"
        },
        "id": "zhzcLMTu_xrt",
        "outputId": "7cd38c82-73a2-44ae-edfa-f6eedf3b70ec"
      },
      "execution_count": null,
      "outputs": [
        {
          "output_type": "execute_result",
          "data": {
            "text/plain": [
              "(4, 3)"
            ]
          },
          "metadata": {},
          "execution_count": 8
        }
      ]
    },
    {
      "cell_type": "markdown",
      "source": [
        "Try to create your own matrix (you can try non-squares) to test transposition"
      ],
      "metadata": {
        "id": "M42JdEUr6qUO"
      }
    },
    {
      "cell_type": "code",
      "source": [
        "xeyah = np.array ([\n",
        "                   [3, 14, 9, 5],\n",
        "                   [4, 1,-8, 19],\n",
        "                   [12, -3, 2, 1],\n",
        "                   [5, 0, -18, 4],\n",
        "                   [0, -61, 9, 7]\n",
        "])\n",
        "print('xeyah matrix: \\n',xeyah, '\\n')\n",
        "print('Shape: ',xeyah.shape)"
      ],
      "metadata": {
        "colab": {
          "base_uri": "https://localhost:8080/"
        },
        "id": "GQldF3NZ6v3g",
        "outputId": "933b8716-a4a4-4873-b640-0047ad3cc204"
      },
      "execution_count": null,
      "outputs": [
        {
          "output_type": "stream",
          "name": "stdout",
          "text": [
            "xeyah matrix: \n",
            " [[  3  14   9   5]\n",
            " [  4   1  -8  19]\n",
            " [ 12  -3   2   1]\n",
            " [  5   0 -18   4]\n",
            " [  0 -61   9   7]] \n",
            "\n",
            "Shape:  (5, 4)\n"
          ]
        }
      ]
    },
    {
      "cell_type": "code",
      "source": [
        "xeyahT2 = xeyah.T\n",
        "xeyahT2"
      ],
      "metadata": {
        "colab": {
          "base_uri": "https://localhost:8080/"
        },
        "id": "Zhu97P4aRLxr",
        "outputId": "46e59fa9-8f03-47fd-ac04-2820084af853"
      },
      "execution_count": null,
      "outputs": [
        {
          "output_type": "execute_result",
          "data": {
            "text/plain": [
              "array([[  3,   4,  12,   5,   0],\n",
              "       [ 14,   1,  -3,   0, -61],\n",
              "       [  9,  -8,   2, -18,   9],\n",
              "       [  5,  19,   1,   4,   7]])"
            ]
          },
          "metadata": {},
          "execution_count": 10
        }
      ]
    },
    {
      "cell_type": "code",
      "source": [
        "print('Transpose Shape:',xeyah.shape)"
      ],
      "metadata": {
        "colab": {
          "base_uri": "https://localhost:8080/"
        },
        "id": "55XQVCQl8LGL",
        "outputId": "adc7606c-2ae3-4133-ec3e-9dfb8766a026"
      },
      "execution_count": null,
      "outputs": [
        {
          "output_type": "stream",
          "name": "stdout",
          "text": [
            "Transpose Shape: (5, 4)\n"
          ]
        }
      ]
    },
    {
      "cell_type": "code",
      "source": [
        "print('Transpose Shape:',np.transpose(xeyah).shape)"
      ],
      "metadata": {
        "colab": {
          "base_uri": "https://localhost:8080/"
        },
        "id": "-Jjc66XF8FGo",
        "outputId": "d0951136-6d5b-4128-cfe4-b9c1608d085a"
      },
      "execution_count": null,
      "outputs": [
        {
          "output_type": "stream",
          "name": "stdout",
          "text": [
            "Transpose Shape: (4, 5)\n"
          ]
        }
      ]
    },
    {
      "cell_type": "markdown",
      "source": [
        "##Dot Product"
      ],
      "metadata": {
        "id": "Lq_fbk_eAZ7F"
      }
    },
    {
      "cell_type": "markdown",
      "source": [
        "If you remember the dot product from the laboratory activity, we'll try to do the same thing with matrices. We'll obtain the sum of products of the vectors by row-column pairings in matrix dot product. So, if we have two matrices $X$ and $Y$, we can do the following:\n",
        "\n",
        "$$X = \\begin{bmatrix}x_{(0,0)}&x_{(0,1)}\\\\ x_{(1,0)}&x_{(1,1)}\\end{bmatrix}, Y = \\begin{bmatrix}y_{(0,0)}&y_{(0,1)}\\\\ y_{(1,0)}&y_{(1,1)}\\end{bmatrix}$$\n",
        "\n",
        "The dot product will then be computed as:\n",
        "$$X \\cdot Y= \\begin{bmatrix} x_{(0,0)}*y_{(0,0)} + x_{(0,1)}*y_{(1,0)} & x_{(0,0)}*y_{(0,1)} + x_{(0,1)}*y_{(1,1)} \\\\  x_{(1,0)}*y_{(0,0)} + x_{(1,1)}*y_{(1,0)} & x_{(1,0)}*y_{(0,1)} + x_{(1,1)}*y_{(1,1)}\n",
        "\\end{bmatrix}$$\n",
        "\n",
        "So if we assign values to $X$ and $Y$:\n",
        "$$X = \\begin{bmatrix}1&2\\\\ 0&1\\end{bmatrix}, Y = \\begin{bmatrix}-1&0\\\\ 2&2\\end{bmatrix}$$"
      ],
      "metadata": {
        "id": "SU7C03YCAclB"
      }
    },
    {
      "cell_type": "markdown",
      "source": [
        "$$X \\cdot Y= \\begin{bmatrix} 1*-1 + 2*2 & 1*0 + 2*2 \\\\  0*-1 + 1*2 & 0*0 + 1*2 \\end{bmatrix} = \\begin{bmatrix} 3 & 4 \\\\2 & 2 \\end{bmatrix}$$\n",
        "This could be achieved programmatically using `np.dot()`, `np.matmul()` or the `@` operator."
      ],
      "metadata": {
        "id": "c08h_AVeCVCr"
      }
    },
    {
      "cell_type": "code",
      "source": [
        "C = np.array([\n",
        "    [0, 2],\n",
        "    [5, 3],\n",
        "    [4, 0]\n",
        "])\n",
        "T = np.array([\n",
        "    [-2, 8, 0, 3, 9, 4, -1],\n",
        "    [0, -8, 5, 1, 1, 6, 7]\n",
        "])"
      ],
      "metadata": {
        "id": "IgmQ1tVTAnnm"
      },
      "execution_count": null,
      "outputs": []
    },
    {
      "cell_type": "code",
      "source": [
        "np.array_equiv(C, T)"
      ],
      "metadata": {
        "colab": {
          "base_uri": "https://localhost:8080/"
        },
        "id": "eqDSwCreA6i6",
        "outputId": "2c5de6ac-d522-4c09-d787-fd157482ccd9"
      },
      "execution_count": null,
      "outputs": [
        {
          "output_type": "execute_result",
          "data": {
            "text/plain": [
              "False"
            ]
          },
          "metadata": {},
          "execution_count": 14
        }
      ]
    },
    {
      "cell_type": "code",
      "source": [
        "np.dot(C,T)"
      ],
      "metadata": {
        "colab": {
          "base_uri": "https://localhost:8080/"
        },
        "id": "aknDOLWKBECE",
        "outputId": "b401e45e-9408-4e11-8a98-c813241861b5"
      },
      "execution_count": null,
      "outputs": [
        {
          "output_type": "execute_result",
          "data": {
            "text/plain": [
              "array([[  0, -16,  10,   2,   2,  12,  14],\n",
              "       [-10,  16,  15,  18,  48,  38,  16],\n",
              "       [ -8,  32,   0,  12,  36,  16,  -4]])"
            ]
          },
          "metadata": {},
          "execution_count": 15
        }
      ]
    },
    {
      "cell_type": "code",
      "source": [
        "C.dot(T)"
      ],
      "metadata": {
        "colab": {
          "base_uri": "https://localhost:8080/"
        },
        "id": "zNFNbYZGBAWX",
        "outputId": "6995f8dd-d413-4344-8d58-99fec8b37809"
      },
      "execution_count": null,
      "outputs": [
        {
          "output_type": "execute_result",
          "data": {
            "text/plain": [
              "array([[  0, -16,  10,   2,   2,  12,  14],\n",
              "       [-10,  16,  15,  18,  48,  38,  16],\n",
              "       [ -8,  32,   0,  12,  36,  16,  -4]])"
            ]
          },
          "metadata": {},
          "execution_count": 16
        }
      ]
    },
    {
      "cell_type": "code",
      "source": [
        "C @ T"
      ],
      "metadata": {
        "colab": {
          "base_uri": "https://localhost:8080/"
        },
        "id": "B2EHGMdIBH6i",
        "outputId": "60be1a7e-c113-4f28-b3a6-555da0e79e2d"
      },
      "execution_count": null,
      "outputs": [
        {
          "output_type": "execute_result",
          "data": {
            "text/plain": [
              "array([[  0, -16,  10,   2,   2,  12,  14],\n",
              "       [-10,  16,  15,  18,  48,  38,  16],\n",
              "       [ -8,  32,   0,  12,  36,  16,  -4]])"
            ]
          },
          "metadata": {},
          "execution_count": 17
        }
      ]
    },
    {
      "cell_type": "code",
      "source": [
        "np.matmul(C,T)"
      ],
      "metadata": {
        "colab": {
          "base_uri": "https://localhost:8080/"
        },
        "id": "ysl9F4MbCcon",
        "outputId": "559b4e6f-c540-4ee9-c863-c4b26b90b87e"
      },
      "execution_count": null,
      "outputs": [
        {
          "output_type": "execute_result",
          "data": {
            "text/plain": [
              "array([[  0, -16,  10,   2,   2,  12,  14],\n",
              "       [-10,  16,  15,  18,  48,  38,  16],\n",
              "       [ -8,  32,   0,  12,  36,  16,  -4]])"
            ]
          },
          "metadata": {},
          "execution_count": 18
        }
      ]
    },
    {
      "cell_type": "markdown",
      "source": [
        "In matrix dot products there are additional rules compared with vector dot products. Since vector dot products were just in one dimension there are less restrictions. Since now we are dealing with Rank 2 vectors we need to consider some rules:\n",
        "\n",
        "### RULE 1: The inner dimensions of the two matrices in question must be the same. \n",
        "\n",
        "So given a matrix $A$ with a shape of $(a,b)$ where $a$ and $b$ are any integers. If we want to do a dot product between $A$ and another matrix $B$, then matrix $B$ should have a shape of $(b,c)$ where $b$ and $c$ are any integers. So for given the following matrices:\n",
        "\n",
        "$$C = \\begin{bmatrix}2&44\\\\21&-20\\\\0&11\\end{bmatrix}, H = \\begin{bmatrix}14&11\\\\3&-23\\\\-11&-32\\end{bmatrix}, E = \\begin{bmatrix}9&4&-3\\\\1&0&8\\end{bmatrix}$$\n",
        "\n",
        "So in this case $C$ has a shape of $(3,2)$, $H$ has a shape of $(3,2)$ and $E$ has a shape of $(2,3)$. So the only matrix pairs that is eligible to perform dot product is matrices $C \\cdot E$, or $H \\cdot E$.  "
      ],
      "metadata": {
        "id": "JSnSpK9IDJq9"
      }
    },
    {
      "cell_type": "code",
      "source": [
        "C = np.array([\n",
        "    [2, 44, 1],\n",
        "    [21, -20, 9],\n",
        "    [0, 12, 11]\n",
        "])\n",
        "H = np.array([\n",
        "    [14, 0, 11],\n",
        "    [3,-23, 11],\n",
        "    [-11, 24, -3],\n",
        "    [2, 34, 6,]\n",
        "])\n",
        "E = np.array([\n",
        "    [1, 9, 4, -3],\n",
        "    [24, 1, 0, 8]\n",
        "])\n",
        "print(C.shape)\n",
        "print(H.shape)\n",
        "print(E.shape)"
      ],
      "metadata": {
        "colab": {
          "base_uri": "https://localhost:8080/"
        },
        "id": "Rhp9meymDQDT",
        "outputId": "b35ede36-90bb-4575-9567-5bfeec74428b"
      },
      "execution_count": null,
      "outputs": [
        {
          "output_type": "stream",
          "name": "stdout",
          "text": [
            "(3, 3)\n",
            "(4, 3)\n",
            "(2, 4)\n"
          ]
        }
      ]
    },
    {
      "cell_type": "code",
      "source": [
        "H @ C"
      ],
      "metadata": {
        "colab": {
          "base_uri": "https://localhost:8080/"
        },
        "id": "0bWDkM6SEFd7",
        "outputId": "f5076adf-46b5-41c3-f678-a2ccfbce07f4"
      },
      "execution_count": null,
      "outputs": [
        {
          "output_type": "execute_result",
          "data": {
            "text/plain": [
              "array([[   28,   748,   135],\n",
              "       [ -477,   724,   -83],\n",
              "       [  482, -1000,   172],\n",
              "       [  718,  -520,   374]])"
            ]
          },
          "metadata": {},
          "execution_count": 20
        }
      ]
    },
    {
      "cell_type": "code",
      "source": [
        "E @ H"
      ],
      "metadata": {
        "colab": {
          "base_uri": "https://localhost:8080/"
        },
        "id": "1pj1Z4gaEHdH",
        "outputId": "24be346e-2607-4933-8ec2-b723bacc92d7"
      },
      "execution_count": null,
      "outputs": [
        {
          "output_type": "execute_result",
          "data": {
            "text/plain": [
              "array([[  -9, -213,   80],\n",
              "       [ 355,  249,  323]])"
            ]
          },
          "metadata": {},
          "execution_count": 21
        }
      ]
    },
    {
      "cell_type": "code",
      "source": [
        "C @ H"
      ],
      "metadata": {
        "colab": {
          "base_uri": "https://localhost:8080/",
          "height": 183
        },
        "id": "y6cB55BYAyD7",
        "outputId": "b59e5b39-58d5-4c16-d5d7-1d944c56d998"
      },
      "execution_count": null,
      "outputs": [
        {
          "output_type": "error",
          "ename": "ValueError",
          "evalue": "ignored",
          "traceback": [
            "\u001b[0;31m---------------------------------------------------------------------------\u001b[0m",
            "\u001b[0;31mValueError\u001b[0m                                Traceback (most recent call last)",
            "\u001b[0;32m<ipython-input-44-7d5cb8160755>\u001b[0m in \u001b[0;36m<module>\u001b[0;34m()\u001b[0m\n\u001b[0;32m----> 1\u001b[0;31m \u001b[0mC\u001b[0m \u001b[0;34m@\u001b[0m \u001b[0mH\u001b[0m\u001b[0;34m\u001b[0m\u001b[0;34m\u001b[0m\u001b[0m\n\u001b[0m",
            "\u001b[0;31mValueError\u001b[0m: matmul: Input operand 1 has a mismatch in its core dimension 0, with gufunc signature (n?,k),(k,m?)->(n?,m?) (size 4 is different from 3)"
          ]
        }
      ]
    },
    {
      "cell_type": "markdown",
      "source": [
        "If you would notice the shape of the dot product changed and its shape is not the same as any of the matrices we used. The shape of a dot product is actually derived from the shapes of the matrices used. So recall matrix $A$ with a shape of $(a,b)$ and matrix $B$ with a shape of $(b,c)$, $A \\cdot B$ should have a shape $(a,c)$."
      ],
      "metadata": {
        "id": "ylB7LpJdqwaG"
      }
    },
    {
      "cell_type": "code",
      "source": [
        "C @ H.T"
      ],
      "metadata": {
        "colab": {
          "base_uri": "https://localhost:8080/"
        },
        "id": "SZ762l_VA5be",
        "outputId": "252b9a1a-ec44-4d34-fd8c-ba7f66d3fd45"
      },
      "execution_count": null,
      "outputs": [
        {
          "output_type": "execute_result",
          "data": {
            "text/plain": [
              "array([[  39, -995, 1031, 1506],\n",
              "       [ 393,  622, -738, -584],\n",
              "       [ 121, -155,  255,  474]])"
            ]
          },
          "metadata": {},
          "execution_count": 22
        }
      ]
    },
    {
      "cell_type": "code",
      "source": [
        "X = np.array([\n",
        "    [3,-1,3,4]\n",
        "])\n",
        "Y = np.array([\n",
        "    [9,0,2,-8]\n",
        "])\n",
        "print(X.shape)\n",
        "print(Y.shape)"
      ],
      "metadata": {
        "colab": {
          "base_uri": "https://localhost:8080/"
        },
        "id": "tVSCbfQyq13o",
        "outputId": "7fe8d026-2c49-494f-db80-cf426f9c364c"
      },
      "execution_count": null,
      "outputs": [
        {
          "output_type": "stream",
          "name": "stdout",
          "text": [
            "(1, 4)\n",
            "(1, 4)\n"
          ]
        }
      ]
    },
    {
      "cell_type": "code",
      "source": [
        "Y.T @ X"
      ],
      "metadata": {
        "colab": {
          "base_uri": "https://localhost:8080/"
        },
        "id": "vobVzmt0rTkV",
        "outputId": "d9d4e46e-e59d-4820-8fc9-b11c40722168"
      },
      "execution_count": null,
      "outputs": [
        {
          "output_type": "execute_result",
          "data": {
            "text/plain": [
              "array([[ 27,  -9,  27,  36],\n",
              "       [  0,   0,   0,   0],\n",
              "       [  6,  -2,   6,   8],\n",
              "       [-24,   8, -24, -32]])"
            ]
          },
          "metadata": {},
          "execution_count": 24
        }
      ]
    },
    {
      "cell_type": "code",
      "source": [
        "X @ Y.T"
      ],
      "metadata": {
        "colab": {
          "base_uri": "https://localhost:8080/"
        },
        "id": "5-wTx1BIrWl8",
        "outputId": "ec24432c-5350-418d-bdb2-522373951420"
      },
      "execution_count": null,
      "outputs": [
        {
          "output_type": "execute_result",
          "data": {
            "text/plain": [
              "array([[1]])"
            ]
          },
          "metadata": {},
          "execution_count": 25
        }
      ]
    },
    {
      "cell_type": "markdown",
      "source": [
        "And you can see that when you try to multiply A and B, it returns `ValueError` pertaining to matrix shape mismatch."
      ],
      "metadata": {
        "id": "NwOOG2iire9V"
      }
    },
    {
      "cell_type": "markdown",
      "source": [
        "###RULE 2: Dot Product has special properties\n",
        "\n",
        "Dot products are prevalent in matrix algebra, this implies that it has several unique properties and it should be considered when formulation solutions:\n",
        " 1. $A \\cdot B \\neq B \\cdot A$\n",
        " 2. $A \\cdot (B \\cdot C) = (A \\cdot B) \\cdot C$\n",
        " 3. $A\\cdot(B+C) = A\\cdot B + A\\cdot C$\n",
        " 4. $(B+C)\\cdot A = B\\cdot A + C\\cdot A$\n",
        " 5. $A\\cdot I = A$\n",
        " 6. $A\\cdot \\emptyset = \\emptyset$ "
      ],
      "metadata": {
        "id": "8jHYJQeAFr3X"
      }
    },
    {
      "cell_type": "code",
      "source": [
        "A = np.array([\n",
        "    [-23,0,21],\n",
        "    [44,52,0],\n",
        "    [1,34,97]\n",
        "])\n",
        "B = np.array([\n",
        "    [-18,1,77],\n",
        "    [14,-91,9],\n",
        "    [-98,4,-18]\n",
        "])\n",
        "C = np.array([\n",
        "    [9,-7,0],\n",
        "    [10,0,1],\n",
        "    [-31,0,66]\n",
        "])"
      ],
      "metadata": {
        "id": "IUOvL2QiF1a7"
      },
      "execution_count": null,
      "outputs": []
    },
    {
      "cell_type": "code",
      "source": [
        "np.eye(3)"
      ],
      "metadata": {
        "colab": {
          "base_uri": "https://localhost:8080/"
        },
        "id": "wkhENbxaHdoi",
        "outputId": "20db1db0-cd98-4bbd-8419-f00b494a6511"
      },
      "execution_count": null,
      "outputs": [
        {
          "output_type": "execute_result",
          "data": {
            "text/plain": [
              "array([[1., 0., 0.],\n",
              "       [0., 1., 0.],\n",
              "       [0., 0., 1.]])"
            ]
          },
          "metadata": {},
          "execution_count": 27
        }
      ]
    },
    {
      "cell_type": "code",
      "source": [
        "A.dot(np.eye(3))"
      ],
      "metadata": {
        "colab": {
          "base_uri": "https://localhost:8080/"
        },
        "id": "5PxE8a2QHfjn",
        "outputId": "633afbae-0e77-417a-95c8-3aa34019e0b8"
      },
      "execution_count": null,
      "outputs": [
        {
          "output_type": "execute_result",
          "data": {
            "text/plain": [
              "array([[-23.,   0.,  21.],\n",
              "       [ 44.,  52.,   0.],\n",
              "       [  1.,  34.,  97.]])"
            ]
          },
          "metadata": {},
          "execution_count": 28
        }
      ]
    },
    {
      "cell_type": "code",
      "source": [
        "np.array_equal(A@B, B@A)"
      ],
      "metadata": {
        "colab": {
          "base_uri": "https://localhost:8080/"
        },
        "id": "NCtceUixHhtg",
        "outputId": "57e48cac-909c-459b-e60b-23e1cd5034e9"
      },
      "execution_count": null,
      "outputs": [
        {
          "output_type": "execute_result",
          "data": {
            "text/plain": [
              "False"
            ]
          },
          "metadata": {},
          "execution_count": 29
        }
      ]
    },
    {
      "cell_type": "code",
      "source": [
        "E = A @ (B @ C)\n",
        "E"
      ],
      "metadata": {
        "colab": {
          "base_uri": "https://localhost:8080/"
        },
        "id": "iYF0gd0QHjqX",
        "outputId": "ee5d5cf5-edd9-49c1-a22d-c1afe28d5042"
      },
      "execution_count": null,
      "outputs": [
        {
          "output_type": "execute_result",
          "data": {
            "text/plain": [
              "array([[  52433,   11508, -141773],\n",
              "       [-166992,     448,  249808],\n",
              "       [ -66229,   63336,  -92663]])"
            ]
          },
          "metadata": {},
          "execution_count": 30
        }
      ]
    },
    {
      "cell_type": "code",
      "source": [
        "F = (A @ B) @ C\n",
        "F"
      ],
      "metadata": {
        "colab": {
          "base_uri": "https://localhost:8080/"
        },
        "id": "RDyRgB1xHmZe",
        "outputId": "f95239b7-634f-4f60-ec98-2e475dee047e"
      },
      "execution_count": null,
      "outputs": [
        {
          "output_type": "execute_result",
          "data": {
            "text/plain": [
              "array([[  52433,   11508, -141773],\n",
              "       [-166992,     448,  249808],\n",
              "       [ -66229,   63336,  -92663]])"
            ]
          },
          "metadata": {},
          "execution_count": 31
        }
      ]
    },
    {
      "cell_type": "code",
      "source": [
        "np.array_equal(E, X)"
      ],
      "metadata": {
        "colab": {
          "base_uri": "https://localhost:8080/"
        },
        "id": "rspeGnWbHoau",
        "outputId": "ea73d84b-d85f-426b-b8cc-25fc45491623"
      },
      "execution_count": null,
      "outputs": [
        {
          "output_type": "execute_result",
          "data": {
            "text/plain": [
              "False"
            ]
          },
          "metadata": {},
          "execution_count": 32
        }
      ]
    },
    {
      "cell_type": "code",
      "source": [
        "np.array_equiv(E, F)"
      ],
      "metadata": {
        "colab": {
          "base_uri": "https://localhost:8080/"
        },
        "id": "B4BWcjIVHpzO",
        "outputId": "7c3a1774-3cea-451a-d037-bf073e6dcf77"
      },
      "execution_count": null,
      "outputs": [
        {
          "output_type": "execute_result",
          "data": {
            "text/plain": [
              "True"
            ]
          },
          "metadata": {},
          "execution_count": 33
        }
      ]
    },
    {
      "cell_type": "code",
      "source": [
        "A @ E"
      ],
      "metadata": {
        "colab": {
          "base_uri": "https://localhost:8080/"
        },
        "id": "v5nR3wEYHt3V",
        "outputId": "7419ee7c-1354-4458-97d9-8f7c2051739c"
      },
      "execution_count": null,
      "outputs": [
        {
          "output_type": "execute_result",
          "data": {
            "text/plain": [
              "array([[ -2596768,   1065372,   1314856],\n",
              "       [ -6376532,    529648,   6752004],\n",
              "       [-12049508,   6170332,   -636612]])"
            ]
          },
          "metadata": {},
          "execution_count": 34
        }
      ]
    },
    {
      "cell_type": "code",
      "source": [
        "z_mat = np.zeros(A.shape)\n",
        "z_mat"
      ],
      "metadata": {
        "colab": {
          "base_uri": "https://localhost:8080/"
        },
        "id": "2aLDsHEQH1T_",
        "outputId": "8b5c3dee-8771-408b-aa65-bfa1ead12787"
      },
      "execution_count": null,
      "outputs": [
        {
          "output_type": "execute_result",
          "data": {
            "text/plain": [
              "array([[0., 0., 0.],\n",
              "       [0., 0., 0.],\n",
              "       [0., 0., 0.]])"
            ]
          },
          "metadata": {},
          "execution_count": 35
        }
      ]
    },
    {
      "cell_type": "code",
      "source": [
        "a_dot_z = A.dot(np.zeros(A.shape))\n",
        "a_dot_z"
      ],
      "metadata": {
        "colab": {
          "base_uri": "https://localhost:8080/"
        },
        "id": "Khy32DU1H3ik",
        "outputId": "6e98b759-c095-4295-b544-778750d65f16"
      },
      "execution_count": null,
      "outputs": [
        {
          "output_type": "execute_result",
          "data": {
            "text/plain": [
              "array([[0., 0., 0.],\n",
              "       [0., 0., 0.],\n",
              "       [0., 0., 0.]])"
            ]
          },
          "metadata": {},
          "execution_count": 36
        }
      ]
    },
    {
      "cell_type": "code",
      "source": [
        "np.array_equal(a_dot_z,z_mat)"
      ],
      "metadata": {
        "colab": {
          "base_uri": "https://localhost:8080/"
        },
        "id": "mcVlOyAYH5AC",
        "outputId": "901342ae-7842-41f0-9ab5-f05b3f067002"
      },
      "execution_count": null,
      "outputs": [
        {
          "output_type": "execute_result",
          "data": {
            "text/plain": [
              "True"
            ]
          },
          "metadata": {},
          "execution_count": 37
        }
      ]
    },
    {
      "cell_type": "code",
      "source": [
        "null_mat = np.empty(A.shape, dtype=float)\n",
        "null = np.array(null_mat,dtype=float)\n",
        "print(null)\n",
        "np.allclose(a_dot_z,null)"
      ],
      "metadata": {
        "colab": {
          "base_uri": "https://localhost:8080/"
        },
        "id": "HCMCIw3IH6o5",
        "outputId": "821c5564-1888-4086-c9de-c5bba1509070"
      },
      "execution_count": null,
      "outputs": [
        {
          "output_type": "stream",
          "name": "stdout",
          "text": [
            "[[0. 0. 0.]\n",
            " [0. 0. 0.]\n",
            " [0. 0. 0.]]\n"
          ]
        },
        {
          "output_type": "execute_result",
          "data": {
            "text/plain": [
              "True"
            ]
          },
          "metadata": {},
          "execution_count": 38
        }
      ]
    },
    {
      "cell_type": "markdown",
      "source": [
        "###Determinants\n",
        "A determinant is a scalar value derived from a square matrix. The determinant is a fundamental and important value used in matrix algebra. Although it will not be evident in this laboratory on how it can be used practically, but it will be reatly used in future lessons.\n",
        "\n",
        "The determinant of some matrix $A$ is denoted as $det(A)$ or $|A|$. So let's say $A$ is represented as:\n",
        "$$A = \\begin{bmatrix}a_{(0,0)}&a_{(0,1)}\\\\a_{(1,0)}&a_{(1,1)}\\end{bmatrix}$$\n",
        "We can compute for the determinant as:\n",
        "$$|A| = a_{(0,0)}*a_{(1,1)} - a_{(1,0)}*a_{(0,1)}$$\n",
        "So if we have $A$ as:\n",
        "$$A = \\begin{bmatrix}1&8\\\\0&7\\end{bmatrix}, |A| = 7$$\n",
        "\n",
        "But you might wonder how about square matrices beyond the shape $(2,2)$? We can approach this problem by using several methods such as co-factor expansion and the minors method. This can be taught in the lecture of the laboratory but we can achieve the strenuous computation of high-dimensional matrices programmatically using Python. We can achieve this by using `np.linalg.det()`."
      ],
      "metadata": {
        "id": "1y8VlJ28LVvO"
      }
    },
    {
      "cell_type": "code",
      "source": [
        "A = np.array([\n",
        "    [1,8],\n",
        "    [0,7]\n",
        "])\n",
        "np.linalg.det(A)"
      ],
      "metadata": {
        "colab": {
          "base_uri": "https://localhost:8080/"
        },
        "id": "mo1eVvLKLgzW",
        "outputId": "45273ce3-8358-4ba9-dceb-cfc209112dfe"
      },
      "execution_count": null,
      "outputs": [
        {
          "output_type": "execute_result",
          "data": {
            "text/plain": [
              "6.999999999999999"
            ]
          },
          "metadata": {},
          "execution_count": 39
        }
      ]
    },
    {
      "cell_type": "code",
      "source": [
        "B = np.array([\n",
        "              [1, 9, 3],\n",
        "              [4, -1 ,-2],\n",
        "              [0, -3, 2],\n",
        "             \n",
        "])\n",
        "np.linalg.det(B)"
      ],
      "metadata": {
        "colab": {
          "base_uri": "https://localhost:8080/"
        },
        "id": "8j-47phlLq6x",
        "outputId": "6c2cf53b-25fa-4da1-c22d-c8622ecb83a9"
      },
      "execution_count": null,
      "outputs": [
        {
          "output_type": "execute_result",
          "data": {
            "text/plain": [
              "-116.00000000000009"
            ]
          },
          "metadata": {},
          "execution_count": 40
        }
      ]
    },
    {
      "cell_type": "code",
      "source": [
        "## Now other mathematics classes would require you to solve this by hand, \n",
        "## and that is great for practicing your memorization and coordination skills \n",
        "## but in this class we aim for simplicity and speed so we'll use programming\n",
        "## but it's completely fine if you want to try to solve this one by hand.\n",
        "B = np.array([\n",
        "    [1,3,5,6],\n",
        "    [0,3,1,3],\n",
        "    [3,1,8,2],\n",
        "    [5,2,6,8]\n",
        "])\n",
        "np.linalg.det(B)"
      ],
      "metadata": {
        "colab": {
          "base_uri": "https://localhost:8080/"
        },
        "id": "Rj80qqOINbhO",
        "outputId": "459988bf-8eb6-417d-ef8f-fe000b23e1a8"
      },
      "execution_count": null,
      "outputs": [
        {
          "output_type": "execute_result",
          "data": {
            "text/plain": [
              "-235.0000000000002"
            ]
          },
          "metadata": {},
          "execution_count": 41
        }
      ]
    },
    {
      "cell_type": "markdown",
      "source": [
        "###Inverse\n",
        "The inverse of a matrix is another fundamental operation in matrix algebra. Determining the inverse of a matrix let us determine if its solvability and its characteristic as a system of linear equation — we'll expand on this in the nect module. Another use of the inverse matrix is solving the problem of divisibility between matrices. Although element-wise division exists but dividing the entire concept of matrices does not exists. Inverse matrices provides a related operation that could have the same concept of \"dividing\" matrices.\n",
        "\n",
        "Now to determine the inverse of a matrix we need to perform several steps. So let's say we have a matrix $M$:\n",
        "$$M = \\begin{bmatrix}2&4\\\\-3&9\\end{bmatrix}$$\n",
        "First, we need to get the determinant of $M$.\n",
        "$$|M| = (2)(9)-(-3)(4) = 30$$\n",
        "Next, we need to reform the matrix into the inverse form:\n",
        "$$M^{-1} = \\frac{1}{|M|} \\begin{bmatrix} m_{(1,1)} & -m_{(0,1)} \\\\ -m_{(1,0)} & m_{(0,0)}\\end{bmatrix}$$\n",
        "So that will be:\n",
        "$$M^{-1} = \\frac{1}{30} \\begin{bmatrix} 9 & -4 \\\\ 3 & 2\\end{bmatrix} = \\begin{bmatrix} \\frac{9}{30} & \\frac{-4}{30} \\\\ \\frac{3}{30} & \\frac{2}{30}\\end{bmatrix}$$\n",
        "For higher-dimension matrices you might need to use co-factors, minors, adjugates, and other reduction techinques. To solve this programmatially we can use `np.linalg.inv()`."
      ],
      "metadata": {
        "id": "osnQgs7zNgJh"
      }
    },
    {
      "cell_type": "code",
      "source": [
        "M = np.array([\n",
        "    [2,4],\n",
        "    [-3, 9]\n",
        "])\n",
        "\n",
        "np.array(M @ np.linalg.inv(M), dtype=int)"
      ],
      "metadata": {
        "colab": {
          "base_uri": "https://localhost:8080/"
        },
        "id": "bWKZ2-OSNhx9",
        "outputId": "016353a7-523c-4dbd-abb1-c127ccbdfa1c"
      },
      "execution_count": null,
      "outputs": [
        {
          "output_type": "execute_result",
          "data": {
            "text/plain": [
              "array([[1, 0],\n",
              "       [0, 1]])"
            ]
          },
          "metadata": {},
          "execution_count": 42
        }
      ]
    },
    {
      "cell_type": "code",
      "source": [
        "P = np.array([\n",
        "              [5, 10, 0],\n",
        "              [8, 4, -2],\n",
        "              [3, 6, 9]\n",
        "])\n",
        "Q = np.linalg.inv(P)\n",
        "Q"
      ],
      "metadata": {
        "colab": {
          "base_uri": "https://localhost:8080/"
        },
        "id": "92xu2veyNumn",
        "outputId": "62c14b1d-8efa-4fb0-dc2f-2a3aeb915b3a"
      },
      "execution_count": null,
      "outputs": [
        {
          "output_type": "execute_result",
          "data": {
            "text/plain": [
              "array([[-8.88888889e-02,  1.66666667e-01,  3.70370370e-02],\n",
              "       [ 1.44444444e-01, -8.33333333e-02, -1.85185185e-02],\n",
              "       [-6.66666667e-02, -1.54197642e-18,  1.11111111e-01]])"
            ]
          },
          "metadata": {},
          "execution_count": 43
        }
      ]
    },
    {
      "cell_type": "code",
      "source": [
        "P @ Q"
      ],
      "metadata": {
        "colab": {
          "base_uri": "https://localhost:8080/"
        },
        "id": "vgvzqzprNxbm",
        "outputId": "d48c96d0-e5fa-412a-9d09-44fd787838fd"
      },
      "execution_count": null,
      "outputs": [
        {
          "output_type": "execute_result",
          "data": {
            "text/plain": [
              "array([[ 1.00000000e+00, -2.77555756e-17,  0.00000000e+00],\n",
              "       [ 2.77555756e-17,  1.00000000e+00,  0.00000000e+00],\n",
              "       [-1.38777878e-17,  1.38777878e-17,  1.00000000e+00]])"
            ]
          },
          "metadata": {},
          "execution_count": 44
        }
      ]
    },
    {
      "cell_type": "code",
      "source": [
        "## And now let's test your skills in solving a matrix with high dimensions:\n",
        "N = np.array([\n",
        "    [18,5,23,1,0,33,5],\n",
        "    [0,45,0,11,2,4,2],\n",
        "    [5,9,20,0,0,0,3],\n",
        "    [1,6,4,4,8,43,1],\n",
        "    [8,6,8,7,1,6,1],\n",
        "    [-5,15,2,0,0,6,-30],\n",
        "    [-2,-5,1,2,1,20,12],\n",
        "])\n",
        "N_inv = np.linalg.inv(N)\n",
        "np.array(N @ N_inv,dtype=int)"
      ],
      "metadata": {
        "colab": {
          "base_uri": "https://localhost:8080/"
        },
        "id": "0upNZpWsN0m8",
        "outputId": "88bb8c78-df6f-4987-85f9-0476ee8a1bce"
      },
      "execution_count": null,
      "outputs": [
        {
          "output_type": "execute_result",
          "data": {
            "text/plain": [
              "array([[0, 0, 0, 0, 0, 0, 0],\n",
              "       [0, 0, 0, 0, 0, 0, 0],\n",
              "       [0, 0, 1, 0, 0, 0, 0],\n",
              "       [0, 0, 0, 1, 0, 0, 0],\n",
              "       [0, 0, 0, 0, 0, 0, 0],\n",
              "       [0, 0, 0, 0, 0, 0, 0],\n",
              "       [0, 0, 0, 0, 0, 0, 0]])"
            ]
          },
          "metadata": {},
          "execution_count": 45
        }
      ]
    },
    {
      "cell_type": "markdown",
      "source": [
        "To validate the whether the matrices that you have solved is really the inverse, we follow this dot product property for a matrix $M$:\n",
        "$$M\\cdot M^{-1} = I$$"
      ],
      "metadata": {
        "id": "1aw4NPjVQEyJ"
      }
    },
    {
      "cell_type": "code",
      "source": [
        "squad = np.array([\n",
        "    [1.5, 1.0, 1.5],\n",
        "    [0.7, 0.9, 0.9],\n",
        "    [0.3, 0.2, 2.0]\n",
        "])\n",
        "weights = np.array([\n",
        "    [0.1, 0.2, 0.7]\n",
        "])\n",
        "p_grade = squad @ weights.T\n",
        "p_grade\n"
      ],
      "metadata": {
        "colab": {
          "base_uri": "https://localhost:8080/"
        },
        "id": "7zIY9-bxQKGT",
        "outputId": "fb9b25fe-0a9b-48b8-a755-d28cd255b772"
      },
      "execution_count": null,
      "outputs": [
        {
          "output_type": "execute_result",
          "data": {
            "text/plain": [
              "array([[1.4 ],\n",
              "       [0.88],\n",
              "       [1.47]])"
            ]
          },
          "metadata": {},
          "execution_count": 46
        }
      ]
    },
    {
      "cell_type": "markdown",
      "source": [
        "##Activity"
      ],
      "metadata": {
        "id": "hPfpw0ulQVcW"
      }
    },
    {
      "cell_type": "markdown",
      "source": [
        "### Task 1\n",
        "Prove and implement the remaining 6 matrix multiplication properties. You may create your own matrices in which their shapes should not be lower than $(3,3)$.\n",
        "In your methodology, create individual flowcharts for each property and discuss the property you would then present your proofs or validity of your implementation in the results section by comparing your result to present functions from NumPy."
      ],
      "metadata": {
        "id": "LHENPvFqQWx5"
      }
    },
    {
      "cell_type": "code",
      "source": [
        "I = np.array([\n",
        "    [5, 1, 44],\n",
        "    [12, 63, 0],\n",
        "    [45, 10, 1]          \n",
        "])\n",
        "\n",
        "J = np.array([\n",
        "    [3, 22, 26],\n",
        "    [2, 12, -16],\n",
        "    [97, 4, -2]          \n",
        "])\n",
        "\n",
        "K = np.array([\n",
        "    [29, -70, 4],\n",
        "    [14, -6, 9],\n",
        "    [29, 0, 37]          \n",
        "])"
      ],
      "metadata": {
        "id": "QAm9JJOJv144"
      },
      "execution_count": null,
      "outputs": []
    },
    {
      "cell_type": "code",
      "source": [
        "I @ J"
      ],
      "metadata": {
        "colab": {
          "base_uri": "https://localhost:8080/"
        },
        "id": "WdjWcwqfwjUy",
        "outputId": "611d5087-5a69-43d7-b3ff-cb2af653b3fc"
      },
      "execution_count": null,
      "outputs": [
        {
          "output_type": "execute_result",
          "data": {
            "text/plain": [
              "array([[4285,  298,   26],\n",
              "       [ 162, 1020, -696],\n",
              "       [ 252, 1114, 1008]])"
            ]
          },
          "metadata": {},
          "execution_count": 41
        }
      ]
    },
    {
      "cell_type": "code",
      "source": [
        "J @ I"
      ],
      "metadata": {
        "colab": {
          "base_uri": "https://localhost:8080/"
        },
        "id": "A0oOBK0JwmTr",
        "outputId": "f0005b20-491d-43b6-ee4b-91df44219714"
      },
      "execution_count": null,
      "outputs": [
        {
          "output_type": "execute_result",
          "data": {
            "text/plain": [
              "array([[1449, 1649,  158],\n",
              "       [-566,  598,   72],\n",
              "       [ 443,  329, 4266]])"
            ]
          },
          "metadata": {},
          "execution_count": 42
        }
      ]
    },
    {
      "cell_type": "code",
      "source": [
        "np.array_equiv(I @ J, J @ I)"
      ],
      "metadata": {
        "colab": {
          "base_uri": "https://localhost:8080/"
        },
        "id": "QPTuXCsLwo6A",
        "outputId": "b404f5ea-db3f-45cf-bd82-d3f47c9d080f"
      },
      "execution_count": null,
      "outputs": [
        {
          "output_type": "execute_result",
          "data": {
            "text/plain": [
              "False"
            ]
          },
          "metadata": {},
          "execution_count": 43
        }
      ]
    },
    {
      "cell_type": "code",
      "source": [
        "I @ (J@K)"
      ],
      "metadata": {
        "colab": {
          "base_uri": "https://localhost:8080/"
        },
        "id": "ONfPjhFzwtKx",
        "outputId": "2e9a18f0-f423-4ae8-c409-34dfb042352d"
      },
      "execution_count": null,
      "outputs": [
        {
          "output_type": "execute_result",
          "data": {
            "text/plain": [
              "array([[ 129191, -301738,   20784],\n",
              "       [  -1206,  -17460,  -15924],\n",
              "       [  52136,  -24324,   48330]])"
            ]
          },
          "metadata": {},
          "execution_count": 44
        }
      ]
    },
    {
      "cell_type": "code",
      "source": [
        "(I@J) @ K"
      ],
      "metadata": {
        "colab": {
          "base_uri": "https://localhost:8080/"
        },
        "id": "BnVrHlvKwvcV",
        "outputId": "dd141805-59f0-4702-88d5-c1d4e01de5fe"
      },
      "execution_count": null,
      "outputs": [
        {
          "output_type": "execute_result",
          "data": {
            "text/plain": [
              "array([[ 129191, -301738,   20784],\n",
              "       [  -1206,  -17460,  -15924],\n",
              "       [  52136,  -24324,   48330]])"
            ]
          },
          "metadata": {},
          "execution_count": 45
        }
      ]
    },
    {
      "cell_type": "code",
      "source": [
        "np.array_equiv(I@(J@K),(I@J)@K)"
      ],
      "metadata": {
        "colab": {
          "base_uri": "https://localhost:8080/"
        },
        "id": "ciOyyRQxw1Jj",
        "outputId": "2ac8bbb1-a8f5-4f85-c191-0b449cb957c2"
      },
      "execution_count": null,
      "outputs": [
        {
          "output_type": "execute_result",
          "data": {
            "text/plain": [
              "True"
            ]
          },
          "metadata": {},
          "execution_count": 46
        }
      ]
    },
    {
      "cell_type": "code",
      "source": [
        "I@(J+K)"
      ],
      "metadata": {
        "colab": {
          "base_uri": "https://localhost:8080/"
        },
        "id": "qj3THGxMw_PR",
        "outputId": "b5e6aefa-847d-4c1c-8eba-30842f4ac593"
      },
      "execution_count": null,
      "outputs": [
        {
          "output_type": "execute_result",
          "data": {
            "text/plain": [
              "array([[ 5720,   -58,  1683],\n",
              "       [ 1392,  -198,   -81],\n",
              "       [ 1726, -2096,  1315]])"
            ]
          },
          "metadata": {},
          "execution_count": 47
        }
      ]
    },
    {
      "cell_type": "code",
      "source": [
        "I@J + I@K"
      ],
      "metadata": {
        "colab": {
          "base_uri": "https://localhost:8080/"
        },
        "id": "PU_HrZUVxT9A",
        "outputId": "3b4f71bf-1a27-4cf5-c09c-96d32e9c11dd"
      },
      "execution_count": null,
      "outputs": [
        {
          "output_type": "execute_result",
          "data": {
            "text/plain": [
              "array([[ 5720,   -58,  1683],\n",
              "       [ 1392,  -198,   -81],\n",
              "       [ 1726, -2096,  1315]])"
            ]
          },
          "metadata": {},
          "execution_count": 48
        }
      ]
    },
    {
      "cell_type": "code",
      "source": [
        "np.array_equiv(I@(J+K),I@J + I@K)"
      ],
      "metadata": {
        "colab": {
          "base_uri": "https://localhost:8080/"
        },
        "id": "7bBbONCpxXmw",
        "outputId": "12b7d581-fce1-48c4-b5a9-5640021ef711"
      },
      "execution_count": null,
      "outputs": [
        {
          "output_type": "execute_result",
          "data": {
            "text/plain": [
              "True"
            ]
          },
          "metadata": {},
          "execution_count": 50
        }
      ]
    },
    {
      "cell_type": "code",
      "source": [
        "(J+K)@I"
      ],
      "metadata": {
        "colab": {
          "base_uri": "https://localhost:8080/"
        },
        "id": "J4tFD7AxxtlB",
        "outputId": "11bc3c9b-cde5-42a3-de3e-8464612dbec3"
      },
      "execution_count": null,
      "outputs": [
        {
          "output_type": "execute_result",
          "data": {
            "text/plain": [
              "array([[  934, -2692,  1438],\n",
              "       [ -163,   324,   697],\n",
              "       [ 2253,   728,  5579]])"
            ]
          },
          "metadata": {},
          "execution_count": 51
        }
      ]
    },
    {
      "cell_type": "code",
      "source": [
        "J@I + K@I"
      ],
      "metadata": {
        "colab": {
          "base_uri": "https://localhost:8080/"
        },
        "id": "mpkGLabixw68",
        "outputId": "d611dc90-1b7d-41a6-967e-8ffa31f5d85a"
      },
      "execution_count": null,
      "outputs": [
        {
          "output_type": "execute_result",
          "data": {
            "text/plain": [
              "array([[  934, -2692,  1438],\n",
              "       [ -163,   324,   697],\n",
              "       [ 2253,   728,  5579]])"
            ]
          },
          "metadata": {},
          "execution_count": 52
        }
      ]
    },
    {
      "cell_type": "code",
      "source": [
        "np.array_equiv((J+K)@I, J@I + K@I)"
      ],
      "metadata": {
        "colab": {
          "base_uri": "https://localhost:8080/"
        },
        "id": "rwHEb7eFx_Rl",
        "outputId": "dff4a196-3ad2-4ea8-c23e-2e379059c3d9"
      },
      "execution_count": null,
      "outputs": [
        {
          "output_type": "execute_result",
          "data": {
            "text/plain": [
              "True"
            ]
          },
          "metadata": {},
          "execution_count": 56
        }
      ]
    },
    {
      "cell_type": "code",
      "source": [
        "I@np.eye(3)"
      ],
      "metadata": {
        "colab": {
          "base_uri": "https://localhost:8080/"
        },
        "id": "XYuLoQ9vyJKd",
        "outputId": "5eb5c24c-e793-4b00-d428-da4a2ee72dcf"
      },
      "execution_count": null,
      "outputs": [
        {
          "output_type": "execute_result",
          "data": {
            "text/plain": [
              "array([[ 5.,  1., 44.],\n",
              "       [12., 63.,  0.],\n",
              "       [45., 10.,  1.]])"
            ]
          },
          "metadata": {},
          "execution_count": 57
        }
      ]
    },
    {
      "cell_type": "code",
      "source": [
        "np.array_equiv(I, I@np.eye(3))"
      ],
      "metadata": {
        "colab": {
          "base_uri": "https://localhost:8080/"
        },
        "id": "56baHZWcySzR",
        "outputId": "0b72ad82-9c93-4de9-e381-d391b6fc72f1"
      },
      "execution_count": null,
      "outputs": [
        {
          "output_type": "execute_result",
          "data": {
            "text/plain": [
              "True"
            ]
          },
          "metadata": {},
          "execution_count": 58
        }
      ]
    },
    {
      "cell_type": "code",
      "source": [
        "I@np.zeros((3,3))"
      ],
      "metadata": {
        "colab": {
          "base_uri": "https://localhost:8080/"
        },
        "id": "LPRbvH0IyXt2",
        "outputId": "e43399eb-d7f2-470a-cef3-e3f71a9592c4"
      },
      "execution_count": null,
      "outputs": [
        {
          "output_type": "execute_result",
          "data": {
            "text/plain": [
              "array([[0., 0., 0.],\n",
              "       [0., 0., 0.],\n",
              "       [0., 0., 0.]])"
            ]
          },
          "metadata": {},
          "execution_count": 59
        }
      ]
    },
    {
      "cell_type": "code",
      "source": [
        "np.array_equiv(I@np.zeros((3,3)),np.zeros((3,3)))"
      ],
      "metadata": {
        "colab": {
          "base_uri": "https://localhost:8080/"
        },
        "id": "vfUMFv5lycE4",
        "outputId": "0bd02431-d48d-47eb-e618-b1f078ac123e"
      },
      "execution_count": null,
      "outputs": [
        {
          "output_type": "execute_result",
          "data": {
            "text/plain": [
              "True"
            ]
          },
          "metadata": {},
          "execution_count": 60
        }
      ]
    },
    {
      "cell_type": "code",
      "source": [
        "I.dot(np.zeros(I.shape))"
      ],
      "metadata": {
        "colab": {
          "base_uri": "https://localhost:8080/"
        },
        "id": "Y50J1VeAyjD0",
        "outputId": "12dc11d2-fdd0-46eb-cc87-499fca1fb212"
      },
      "execution_count": null,
      "outputs": [
        {
          "output_type": "execute_result",
          "data": {
            "text/plain": [
              "array([[0., 0., 0.],\n",
              "       [0., 0., 0.],\n",
              "       [0., 0., 0.]])"
            ]
          },
          "metadata": {},
          "execution_count": 61
        }
      ]
    },
    {
      "cell_type": "code",
      "source": [
        "z_mat = np.zeros (I.shape)\n",
        "z_mat"
      ],
      "metadata": {
        "colab": {
          "base_uri": "https://localhost:8080/"
        },
        "id": "Js0kovAYymI8",
        "outputId": "1769ca46-2170-4bda-8c4c-87c39c71fdef"
      },
      "execution_count": null,
      "outputs": [
        {
          "output_type": "execute_result",
          "data": {
            "text/plain": [
              "array([[0., 0., 0.],\n",
              "       [0., 0., 0.],\n",
              "       [0., 0., 0.]])"
            ]
          },
          "metadata": {},
          "execution_count": 62
        }
      ]
    },
    {
      "cell_type": "code",
      "source": [
        "i_dot_z = I.dot(np.zeros(I.shape))\n",
        "i_dot_z"
      ],
      "metadata": {
        "colab": {
          "base_uri": "https://localhost:8080/"
        },
        "id": "j7toicZ4yqR8",
        "outputId": "d7e51223-e1f2-4f39-b637-0e8a0df34bbd"
      },
      "execution_count": null,
      "outputs": [
        {
          "output_type": "execute_result",
          "data": {
            "text/plain": [
              "array([[0., 0., 0.],\n",
              "       [0., 0., 0.],\n",
              "       [0., 0., 0.]])"
            ]
          },
          "metadata": {},
          "execution_count": 63
        }
      ]
    },
    {
      "cell_type": "code",
      "source": [
        "np.array_equal(i_dot_z,z_mat)"
      ],
      "metadata": {
        "colab": {
          "base_uri": "https://localhost:8080/"
        },
        "id": "_rVC4J4Nyx3q",
        "outputId": "b0c3618a-ece1-417b-ba9b-ba7a546d6b5c"
      },
      "execution_count": null,
      "outputs": [
        {
          "output_type": "execute_result",
          "data": {
            "text/plain": [
              "True"
            ]
          },
          "metadata": {},
          "execution_count": 64
        }
      ]
    },
    {
      "cell_type": "code",
      "source": [
        "null_mat = np.empty(I.shape, dtype = float)\n",
        "null = np.array(null_mat,dtype = float)\n",
        "print(null)\n",
        "np.allclose(i_dot_z , null)"
      ],
      "metadata": {
        "colab": {
          "base_uri": "https://localhost:8080/"
        },
        "id": "L_ADicYly15R",
        "outputId": "06fd4b3e-c964-4a38-f59f-0538950a0963"
      },
      "execution_count": null,
      "outputs": [
        {
          "output_type": "stream",
          "name": "stdout",
          "text": [
            "[[0. 0. 0.]\n",
            " [0. 0. 0.]\n",
            " [0. 0. 0.]]\n"
          ]
        },
        {
          "output_type": "execute_result",
          "data": {
            "text/plain": [
              "True"
            ]
          },
          "metadata": {},
          "execution_count": 65
        }
      ]
    },
    {
      "cell_type": "markdown",
      "source": [
        "##Conclusion\n",
        "For your conclusion synthesize the concept and application of the laboratory. Briefly discuss what you have learned and achieved in this activity. "
      ],
      "metadata": {
        "id": "zHS1zrpLQdNQ"
      }
    }
  ]
}